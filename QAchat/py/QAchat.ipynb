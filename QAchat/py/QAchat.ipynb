{
 "cells": [
  {
   "attachments": {},
   "cell_type": "markdown",
   "metadata": {},
   "source": [
    "# BrainTrust QA Chat Tutorial\n",
    "\n",
    "<a target=\"_blank\" href=\"https://colab.research.google.com/github/braintrustdata/braintrust-examples/blob/main/QAchat/py/QAchat.ipynb\">\n",
    "  <img src=\"https://colab.research.google.com/assets/colab-badge.svg\" alt=\"Open In Colab\"/>\n",
    "</a>\n",
    "\n",
    "Welcome to [BrainTrust](https://www.braintrustdata.com/)! This is a quick tutorial on how to build and evaluate an AI question and answer chat assistant. The assistant answers questions based on the user's information that is already saved in a vector DB (Chroma).\n",
    "\n",
    "Before starting, make sure that you have a BrainTrust account. If you do not, please [sign up](https://www.braintrustdata.com) or [get in touch](mailto:info@braintrustdata.com). After this tutorial, learn more by visiting [the docs](http://www.braintrustdata.com/docs)."
   ]
  },
  {
   "cell_type": "code",
   "execution_count": null,
   "metadata": {},
   "outputs": [],
   "source": [
    "# NOTE: Replace YOUR_OPENAI_KEY with your OpenAI API Key and YOUR_BRAINTRUST_API_KEY with your BrainTrust API key. Do not put it in quotes.\n",
    "%env OPENAI_API_KEY=\n",
    "%env BRAINTRUST_API_KEY=\n",
    "%env TOKENIZERS_PARALLELISM=true # This is needed to avoid a warning message from Chroma"
   ]
  },
  {
   "cell_type": "code",
   "execution_count": null,
   "metadata": {},
   "outputs": [],
   "source": [
    "%pip install -U /home/ubuntu/braintrust/braintrust/sdk/py openai autoevals chromadb"
   ]
  },
  {
   "cell_type": "code",
   "execution_count": null,
   "metadata": {},
   "outputs": [],
   "source": [
    "import json\n",
    "import datetime\n",
    "import braintrust\n",
    "import chromadb\n",
    "import openai\n",
    "import asyncio\n",
    "from autoevals.string import *\n",
    "from autoevals.llm import *\n",
    "\n",
    "PROJECT_NAME = \"QAchatbot-example\"\n",
    "openai.api_key = os.environ[\"OPENAI_API_KEY\"]"
   ]
  },
  {
   "attachments": {},
   "cell_type": "markdown",
   "metadata": {},
   "source": [
    "## 1. Load in datasets\n",
    "\n",
    "First, we'll load two datasets:\n",
    "1. An evaluation dataset to test our pipeline. This includes input, output pairs like:\n",
    "```\n",
    "    {\"input\": \"What is my full name?\", \"output\": \"John Smith. -BT\"}\n",
    "```\n",
    "2. A user context dataset to give to the AI assistant as context. This will be stored in a vector db and contains rows like:\n",
    "```\n",
    "    {\"category\": \" address\", \"detail\": \"123 Main Street, Anytown, USA\"}\n",
    "```"
   ]
  },
  {
   "cell_type": "code",
   "execution_count": null,
   "metadata": {},
   "outputs": [],
   "source": [
    "# Input, output pairs to evaluate our QAChatbot.\n",
    "# Here's an example eval_set inline so it can easily be loaded on Colab. You may also load your own eval_set from a file.\n",
    "eval_set = [\n",
    "{'input': 'What is my full name?', 'output': 'John Smith. -BT'}, {'input': 'What is my age?', 'output': '25 years old. -BT'}, {'input': 'What is the gender of the baby?', 'output': 'Male. -BT'}, {'input': 'What is my address?', 'output': '123 Main Street, Anytown, USA -BT'}, {'input': 'What is my phone number?', 'output': '(555) 123-4567 -BT'}, {'input': 'What is my date of birth?', 'output': 'January 15, 1990. -BT'}, {'input': 'What is my social security number?', 'output': '123-45-6789 -BT'}, {'input': 'Where am I from?', 'output': 'France. -BT'}, {'input': 'What is my occupation?', 'output': 'Software Engineer -BT'}, {'input': 'What is my education level?', 'output': \"Bachelor's degree in Computer Science. -BT\"},\n",
    "            {\"input\": \"What is my marital status?\", \"output\": \"Married. -BT\"},\n",
    "            {\"input\": \"What is my weight?\", \"output\": \"150 pounds. -BT\"},\n",
    "            {\"input\": \"What is my eye color?\", \"output\": \"Brown. -BT\"},\n",
    "            {\"input\": \"What is my hair color?\", \"output\": \"Blonde. -BT\"},\n",
    "            {\"input\": \"What is my blood type?\", \"output\": \"O positive. -BT\"},\n",
    "            {\"input\": \"What is one food that I should avoid due to my allergy?\",\n",
    "             \"output\": \"Peanuts. -BT\"},\n",
    "            {\"input\": \"What is my favorite hobby?\",\n",
    "             \"output\": \"Painting landscapes with watercolors. -BT\"},\n",
    "            {\"input\": \"What is my favorite card game?\", \"output\": \"Poker. -BT\"},\n",
    "            {\"input\": \"What is my favorite dessert?\", \"output\": \"Cheesecake. -BT\"},\n",
    "            {\"input\": \"What genre of books do I enjoy the most?\", \"output\": \"Fantasy. -BT\"}]\n",
    "\n",
    "# List of facts about a fake user. These will be given as context to the QAChatbot.\n",
    "user_context_dataset = [{'category': 'name', 'detail': 'John Smith.'}, {'category': ' age', 'detail': 'The user is 25 years old.'}, {'category': ' gender', 'detail': 'The gender of the baby is male.'}, {'category': ' address', 'detail': '123 Main Street, Anytown, USA'}, {'category': ' email', 'detail': 'Subject: Important Meeting Reminder'}, {'category': ' phone number', 'detail': 'Phone Number: (555) 123-4567'}, {'category': ' date of birth', 'detail': 'My date of birth is January 15, 1990.'}, {'category': ' social security number', 'detail': '123-45-6789'}, {'category': ' nationality', 'detail': 'I am from France.'}, {'category': ' occupation', 'detail': 'Occupation: Software Engineer'}, {'category': ' education level', 'detail': \"Education Level: Bachelor's degree in Computer Science.\"}, {'category': ' marital status', 'detail': 'Marital Status: Married.'}, {'category': ' height', 'detail': 'The average height of adult males in the United States is approximately 5 feet 9 inches.'}, {'category': ' weight', 'detail': 'My weight is 150 pounds.'}, {'category': ' eye color', 'detail': 'My eye color is brown.'}, {'category': ' hair color', 'detail': \"The user's hair color is blonde.\"}, {'category': ' blood type', 'detail': 'My blood type is O positive.'}, {'category': ' allergies', 'detail': 'I am allergic to peanuts.'}, {'category': ' medical conditions', 'detail': 'I have been experiencing frequent headaches and dizziness for the past month.'}, {'category': ' medications', 'detail': 'Ibuprofen is a common over-the-counter medication used to relieve pain and reduce inflammation.'}, {'category': ' emergency contact', 'detail': 'Name: John Smith\\nPhone Number: 555-123-4567\\nRelationship: Brother'}, {'category': \" driver's license number\", 'detail': \"A driver's license number is a unique identification number assigned to an individual by the Department of Motor Vehicles (DMV) to legally operate a motor vehicle.\"}, {'category': ' passport number', 'detail': 'My passport number is A1234567.'}, {'category': ' credit card number', 'detail': '1234 5678 9012 3456'}, {'category': ' bank account number', 'detail': 'My bank account number is 1234567890.'}, {'category': \" mother's maiden name\", 'detail': \"Mother's Maiden Name: Smith.\"}, {'category': ' favorite color', 'detail': 'My favorite color is blue.'}, {'category': ' favorite food', 'detail': 'My favorite food is pizza.'}, {'category': ' favorite movie', 'detail': 'My favorite movie is The Shawshank Redemption.'}, {'category': ' favorite book', 'detail': 'My favorite book is \"To Kill a Mockingbird\" by Harper Lee.'}, {'category': ' favorite music genre', 'detail': 'My favorite music genre is alternative rock.'}, {'category': ' favorite sports team', 'detail': 'My favorite sports team is the Los Angeles Lakers.'}, {'category': ' hobbies', 'detail': 'I enjoy painting landscapes with watercolors.'}, {'category': ' interests', 'detail': 'I enjoy hiking and exploring new trails in my free time.'}, {'category': ' pet ownership', 'detail': 'I have a dog named Max who is a Labrador Retriever and is 5 years old.'}, {'category': ' vehicle ownership', 'detail': 'I own a red Honda Civic.'}, {'category': ' travel history', 'detail': 'I have traveled to 10 different countries in the past year, including France, Italy, and Japan.'}, {'category': ' languages spoken', 'detail': 'English, Spanish, French'}, {'category': ' religious beliefs', 'detail': 'I believe in the existence of a higher power and practice the teachings of Buddhism.'}, {'category': ' political affiliation', 'detail': 'Democratic Party.'}, {'category': ' social media profiles', 'detail': 'Name: John Smith\\nUsername: @johnsmith123\\nBio: Travel enthusiast, food lover, and dog dad.\\nLocation: New York City\\nInterests: Photography, hiking, trying new restaurants.'}, {'category': ' website', 'detail': 'Website: www.example.com'}, {'category': ' blog', 'detail': 'Title: \"5 Tips for Starting a Successful Blog\"\\n\\nContent: \"Starting a blog can be overwhelming, but with these 5 tips, you\\'ll be on your way to building a successful online presence.\"'}, {'category': ' online shopping preferences', 'detail': 'I prefer to shop online because it is convenient and I can easily compare prices and read reviews before making a purchase.'}, {'category': ' favorite brands', 'detail': 'Nike is my favorite brand for athletic shoes and apparel.'}, {'category': ' clothing size', 'detail': 'My clothing size is medium.'}, {'category': ' shoe size', 'detail': 'My shoe size is 9.'}, {'category': ' hat size', 'detail': 'My hat size is 7 1/4.'}, {'category': ' ring size', 'detail': 'My ring size is 7.'}, {'category': ' favorite vacation destination', 'detail': 'My favorite vacation destination is Bali, Indonesia.'}, {'category': ' favorite season', 'detail': 'My favorite season is autumn because I love the cool weather and beautiful colors of the changing leaves.'}, {'category': ' favorite holiday', 'detail': 'Christmas is my favorite holiday because I love spending time with my family, exchanging gifts, and enjoying delicious food.'}, {\n",
    "    'category': ' favorite animal', 'detail': 'My favorite animal is the red panda.'}, {'category': ' favorite flower', 'detail': 'Roses are my favorite flower because of their beautiful fragrance and variety of colors.'}, {'category': ' favorite superhero', 'detail': 'My favorite superhero is Spider-Man because he is relatable and has a great sense of humor.'}, {'category': ' favorite video game', 'detail': 'My favorite video game is The Legend of Zelda: Breath of the Wild.'}, {'category': ' favorite TV show', 'detail': 'My favorite TV show is \"Friends.\"'}, {'category': ' favorite actor/actress', 'detail': 'My favorite actress is Meryl Streep.'}, {'category': ' favorite author', 'detail': 'My favorite author is J.K. Rowling.'}, {'category': ' favorite restaurant', 'detail': 'My favorite restaurant is a small Italian trattoria called \"La Dolce Vita\" that serves the most delicious homemade pasta dishes.'}, {'category': ' favorite cuisine', 'detail': 'My favorite cuisine is Italian.'}, {'category': ' favorite drink', 'detail': 'My favorite drink is a caramel macchiato.'}, {'category': ' favorite sport', 'detail': 'My favorite sport is basketball.'}, {'category': ' favorite exercise', 'detail': 'My favorite exercise is running because it helps me clear my mind and stay fit.'}, {'category': ' favorite hobby', 'detail': 'My favorite hobby is painting landscapes with watercolors.'}, {'category': ' favorite board game', 'detail': 'My favorite board game is Settlers of Catan.'}, {'category': ' favorite card game', 'detail': 'My favorite card game is Poker.'}, {'category': ' favorite musical instrument', 'detail': 'My favorite musical instrument is the piano.'}, {'category': ' favorite song', 'detail': 'My favorite song is \"Bohemian Rhapsody\" by Queen.'}, {'category': ' favorite artist/band', 'detail': 'My favorite artist is Taylor Swift.'}, {'category': ' favorite genre of music', 'detail': 'My favorite genre of music is hip-hop.'}, {'category': ' favorite type of movie', 'detail': 'Action movies are my favorite type of movie.'}, {'category': ' favorite type of book', 'detail': 'Mystery novels.'}, {'category': ' favorite type of food', 'detail': 'Italian cuisine.'}, {'category': ' favorite type of dessert', 'detail': 'Cheesecake.'}, {'category': ' favorite type of sport', 'detail': 'My favorite type of sport is basketball.'}, {'category': ' favorite type of exercise', 'detail': 'Running'}, {'category': ' favorite type of hobby', 'detail': 'My favorite type of hobby is painting landscapes with watercolors.'}, {'category': ' favorite type of board game', 'detail': 'My favorite type of board game is strategy games.'}, {'category': ' favorite type of card game', 'detail': 'My favorite type of card game is Poker.'}, {'category': ' favorite type of musical instrument', 'detail': 'My favorite type of musical instrument is the piano.'}, {'category': ' favorite type of song', 'detail': 'My favorite type of song is pop.'}, {'category': ' favorite type of artist/band', 'detail': 'My favorite type of artist/band is alternative rock.'}, {'category': ' favorite type of genre of music', 'detail': 'My favorite type of genre of music is alternative rock.'}, {'category': ' favorite type of movie', 'detail': 'Action movies are my favorite type of movie.'}, {'category': ' favorite type of book', 'detail': 'My favorite type of book is fantasy.'}, {'category': ' favorite type of restaurant', 'detail': 'Italian restaurants are my favorite type of restaurant because I love the flavors of pasta, pizza, and gelato.'}, {'category': ' favorite type of cuisine', 'detail': 'Italian cuisine is my favorite type of cuisine.'}, {'category': ' favorite type of vacation destination', 'detail': 'Beach vacations are my favorite type of vacation destination.'}, {'category': ' favorite type of season', 'detail': 'My favorite type of season is summer because I love going to the beach and enjoying the warm weather.'}, {'category': ' favorite type of holiday', 'detail': 'My favorite type of holiday is a beach vacation.'}, {'category': ' favorite type of animal', 'detail': 'Cats are my favorite type of animal because they are independent and low-maintenance pets.'}, {'category': ' favorite type of flower', 'detail': 'Roses.'}, {'category': ' favorite type of superhero', 'detail': 'My favorite type of superhero is one with the power of telekinesis.'}, {'category': ' favorite type of video game', 'detail': 'My favorite type of video game is open-world RPGs.'}, {'category': ' favorite type of TV show', 'detail': 'My favorite type of TV show is crime dramas.'}, {'category': ' favorite type of actor/actress', 'detail': 'My favorite type of actor/actress is someone who can effortlessly switch between comedy and drama.'}, {'category': ' favorite type of author.', 'detail': 'My favorite type of author is someone who writes thought-provoking science fiction novels.'}]"
   ]
  },
  {
   "cell_type": "code",
   "execution_count": null,
   "metadata": {},
   "outputs": [],
   "source": [
    "# Upload these to a new unique dataset in BrainTrust so your teammates can also easily use and manage this dataset.\n",
    "timestamp = datetime.datetime.now().strftime(\"%Y-%m-%d %H:%M:%S\")\n",
    "\n",
    "def get_dataset():\n",
    "    return braintrust.init_dataset(PROJECT_NAME, name=\"Basic Evaluation\"+timestamp)\n",
    "\n",
    "with get_dataset() as dataset:\n",
    "    for test_case in eval_set:\n",
    "        dataset.insert(**test_case)"
   ]
  },
  {
   "attachments": {},
   "cell_type": "markdown",
   "metadata": {},
   "source": [
    "## 2. Store the user context dataset\n",
    "Next, we will embed the personal dataset of information into a vector DB. We will use [Chroma](https://www.trychroma.com/) to embed, store, and retrieve the relevant user context."
   ]
  },
  {
   "cell_type": "code",
   "execution_count": null,
   "metadata": {},
   "outputs": [],
   "source": [
    "chroma_client = chromadb.Client()\n",
    "\n",
    "# Create a new collection\n",
    "collection = None\n",
    "try:\n",
    "    collection = chroma_client.get_collection(name=\"user-details\")\n",
    "    chroma_client.delete_collection(name=\"user-details\")\n",
    "except:\n",
    "    pass\n",
    "    \n",
    "print(\"Creating collection\")\n",
    "collection = chroma_client.create_collection(name=\"user-details\")\n",
    "for i,c in enumerate(user_context_dataset):\n",
    "    fact = c[\"detail\"]\n",
    "    # fact = c[\"category\"]+\":\"+c[\"detail\"]\n",
    "    collection.add(\n",
    "        documents = [fact],\n",
    "        ids = [str(i)]\n",
    "    )"
   ]
  },
  {
   "cell_type": "markdown",
   "metadata": {},
   "source": [
    "## 3. Define and test our AI app\n",
    "We define a pipeline to generate an AI assistant answer given a user question."
   ]
  },
  {
   "cell_type": "code",
   "execution_count": null,
   "metadata": {},
   "outputs": [],
   "source": [
    "async def pipeline_a(input, hooks=None):\n",
    "    # Get a relevant fact from the user context dataset\n",
    "    relevant = collection.query(\n",
    "        query_texts=[input],\n",
    "        n_results=1,\n",
    "    )\n",
    "    relevant_text = ','.join(relevant[\"documents\"][0])\n",
    "    prompt = \"\"\"\n",
    "        You are an assistant called BT. Help the user. Do not say you are an AI language model. Follow up with -BT.\n",
    "        Relevant information: {relevant}\n",
    "        Question: {question}\n",
    "        Answer:\n",
    "        \"\"\".format(question=input, relevant=relevant_text)\n",
    "    messages = [{\"role\": \"system\", \"content\": prompt}]\n",
    "    response = await openai.ChatCompletion.acreate(\n",
    "        model=\"gpt-3.5-turbo\",\n",
    "        messages=messages,\n",
    "        temperature=0,\n",
    "        max_tokens=100,\n",
    "    )\n",
    "\n",
    "    result = response[\"choices\"][0][\"message\"][\"content\"]\n",
    "    if hooks:\n",
    "        hooks.meta(prompt=prompt)\n",
    "    return result"
   ]
  },
  {
   "cell_type": "code",
   "execution_count": null,
   "metadata": {},
   "outputs": [],
   "source": [
    "result = await pipeline_a(\"What is my favorite animal?\")\n",
    "\n",
    "print(\"Result: \", result)"
   ]
  },
  {
   "attachments": {},
   "cell_type": "markdown",
   "metadata": {},
   "source": [
    "## 4. Write an evaluation function\n",
    "\n",
    "Now, we will define a general evaluation function to test different prompts and pipelines using BrainTrust. This makes it easy to iterate and improve our AI app."
   ]
  },
  {
   "cell_type": "code",
   "execution_count": null,
   "metadata": {},
   "outputs": [],
   "source": [
    "from autoevals import Score, LevenshteinScorer\n",
    "from braintrust import Eval\n",
    "\n",
    "# Use some of BrainTrust autoevals scoring functions\n",
    "leven_evaluator = LevenshteinScorer()\n",
    "\n",
    "# Define custom scoring functions\n",
    "def uses_bad_words_scorer(input, **kwargs):\n",
    "    if \"ai language model\" in input.lower():\n",
    "        value = 0 # Bad LLM :(\n",
    "    if \"sorry\" in input.lower():\n",
    "        value = 0 # Bad LLM :(\n",
    "    if \"user\" in input.lower():\n",
    "        value = 0 # Bad LLM :(\n",
    "    else:\n",
    "        value = 1\n",
    "    return Score(name=\"uses_bad_words\", score=value)\n",
    "\n",
    "def signs_off(input, output, **kwargs):\n",
    "    if \"-BT\" in output:\n",
    "        value = 1\n",
    "    else:\n",
    "        value = 0\n",
    "    return Score(name=\"signs_off\", score=value)\n",
    "\n",
    "with get_dataset() as dataset:\n",
    "    data = [{\"input\":d['input'], \"expected\":d['output']} for d in dataset]\n",
    "    \n",
    "await Eval(\n",
    "    PROJECT_NAME,\n",
    "    data = data,\n",
    "    task=pipeline_a,\n",
    "    scores=[uses_bad_words_scorer, signs_off, leven_evaluator],\n",
    ")"
   ]
  },
  {
   "attachments": {},
   "cell_type": "markdown",
   "metadata": {},
   "source": [
    "Once we run the block above, we can click on the link to the BrainTrust web UI to see how our pipeline performs.\n",
    "\n",
    "![web-ui.png](1.png)\n",
    "\n",
    "We seem to fail multiple test cases because our AI app apologizes and says \"I'm sorry\" too much. We can easily fix this with a prompt change. Let's also see if improving the number of relevant facts can improve our score."
   ]
  },
  {
   "cell_type": "markdown",
   "metadata": {},
   "source": [
    "## 5. Improve!\n",
    "Let's define pipeline B below which uses 5 relevant facts as context and includes an updated prompt."
   ]
  },
  {
   "cell_type": "code",
   "execution_count": null,
   "metadata": {},
   "outputs": [],
   "source": [
    "# A pipeline that uses 5 facts as context\n",
    "async def pipeline_b(input, hooks):\n",
    "    # Get relevant facts from the user context dataset\n",
    "    relevant = collection.query(\n",
    "        query_texts=[input],\n",
    "        n_results=5\n",
    "    )\n",
    "    relevant_text = ','.join(relevant[\"documents\"][0])\n",
    "    prompt = \"\"\" You are a very helpful assistant called BT. Respond concisely with just the answer. Do not apologize! Do not say you are an AI language model and do not apologize. End your answer with -BT.\n",
    "        Relevant user information: {relevant}\n",
    "        Question: {question}\n",
    "        Your answer:\n",
    "        \"\"\".format(question=input, relevant=relevant_text)\n",
    "    messages = [{\"role\": \"user\", \"content\": prompt}]\n",
    "    response = await openai.ChatCompletion.acreate(\n",
    "        model=\"gpt-3.5-turbo\",\n",
    "        messages=messages,\n",
    "        temperature=0,\n",
    "        max_tokens=100,\n",
    "    )\n",
    "\n",
    "    result = response[\"choices\"][0][\"message\"][\"content\"]\n",
    "    if hooks:\n",
    "        hooks.meta(prompt=prompt)\n",
    "    return result\n",
    "\n",
    "await Eval(\n",
    "    PROJECT_NAME,\n",
    "    data = data,\n",
    "    task=pipeline_b,\n",
    "    scores=[uses_bad_words_scorer, signs_off, leven_evaluator],\n",
    ")"
   ]
  },
  {
   "attachments": {},
   "cell_type": "markdown",
   "metadata": {},
   "source": [
    "Once we run the block above, we can click on the link to the BrainTrust web UI to see how our pipeline performs.\n",
    "\n",
    "![web-ui-final.png](2.png)\n",
    "\n",
    "We can verify that our pipeline changes actually improved our performance! Next, you can continue to make prompt and pipeline changes to improve the score even more.\n",
    "\n",
    "Now, you are on your journey of building reliable AI apps with BrainTrust.\n",
    "\n",
    "Learn more on our docs @ [https://www.braintrustdata.com/docs](https://www.braintrustdata.com/docs)."
   ]
  }
 ],
 "metadata": {
  "kernelspec": {
   "display_name": "Python 3 (ipykernel)",
   "language": "python",
   "name": "python3"
  },
  "language_info": {
   "codemirror_mode": {
    "name": "ipython",
    "version": 3
   },
   "file_extension": ".py",
   "mimetype": "text/x-python",
   "name": "python",
   "nbconvert_exporter": "python",
   "pygments_lexer": "ipython3",
   "version": "3.10.12"
  }
 },
 "nbformat": 4,
 "nbformat_minor": 4
}
