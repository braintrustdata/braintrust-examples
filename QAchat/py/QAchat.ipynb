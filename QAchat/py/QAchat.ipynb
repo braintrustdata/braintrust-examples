{
 "cells": [
  {
   "attachments": {},
   "cell_type": "markdown",
   "metadata": {},
   "source": [
    "# BrainTrust QA Chat Tutorial\n",
    "\n",
    "<a target=\"_blank\" href=\"https://colab.research.google.com/github/braintrustdata/braintrust-examples/blob/main/QAchat/py/QAchat.ipynb\">\n",
    "  <img src=\"https://colab.research.google.com/assets/colab-badge.svg\" alt=\"Open In Colab\"/>\n",
    "</a>\n",
    "\n",
    "Welcome to [BrainTrust](https://www.braintrustdata.com/)! This is a quick tutorial on how to build and evaluate an AI question and answer chat assistant. The assistant answers questions based on the user's information that is already saved in a vector DB (Chroma).\n",
    "\n",
    "Before starting, make sure that you have a BrainTrust account. If you do not, please [sign up](https://www.braintrustdata.com) or [get in touch](mailto:info@braintrustdata.com). After this tutorial, learn more by visiting [the docs](http://www.braintrustdata.com/docs)."
   ]
  },
  {
   "cell_type": "code",
   "execution_count": null,
   "metadata": {},
   "outputs": [],
   "source": [
    "# NOTE: Replace YOUR_OPENAI_KEY with your OpenAI API Key and YOUR_BRAINTRUST_API_KEY with your BrainTrust API key. Do not put it in quotes.\n",
    "%env OPENAI_API_KEY=sk-XXXXX\n",
    "%env BRAINTRUST_API_KEY=sk-XXXXX\n",
    "%env TOKENIZERS_PARALLELISM=true # This is needed to avoid a warning message from Chroma"
   ]
  },
  {
   "cell_type": "code",
   "execution_count": null,
   "metadata": {},
   "outputs": [],
   "source": [
    "%pip install braintrust openai autoevals chromadb"
   ]
  },
  {
   "cell_type": "code",
   "execution_count": null,
   "metadata": {},
   "outputs": [],
   "source": [
    "import json\n",
    "import braintrust\n",
    "import chromadb\n",
    "import openai\n",
    "import asyncio\n",
    "from autoevals.string import *\n",
    "from autoevals.llm import *\n",
    "\n",
    "PROJECT_NAME = \"QAchatbot\""
   ]
  },
  {
   "attachments": {},
   "cell_type": "markdown",
   "metadata": {},
   "source": [
    "## 1. Load in datasets\n",
    "\n",
    "First, we'll load two datasets:\n",
    "1. An evaluation dataset to test our pipeline. This includes input, output pairs like:\n",
    "```\n",
    "    {\"input\": \"What is my full name?\", \"output\": \"John Smith. -BT\"}\n",
    "```\n",
    "2. A user context dataset to give to the AI assistant as context. This will be stored in a vector db and contains rows like:\n",
    "```\n",
    "    {\"category\": \" address\", \"detail\": \"123 Main Street, Anytown, USA\"}\n",
    "```"
   ]
  },
  {
   "cell_type": "code",
   "execution_count": null,
   "metadata": {},
   "outputs": [],
   "source": [
    "# Input, output pairs to evaluate our QAChatbot.\n",
    "# Upload these to a dataset in BrainTrust so your teammates can also easily use and manage this dataset.\n",
    "dataset = braintrust.init_dataset(PROJECT_NAME, name=\"Basic Evaluation\")\n",
    "\n",
    "# Here's an example eval_set inline so it can easily be loaded on Colab. You may also load your own eval_set from a file.\n",
    "eval_set = [{'input': 'What is my full name?', 'output': 'John Smith. -BT'}, {'input': 'What is my age?', 'output': '25 years old. -BT'}, {'input': 'What is the gender of the baby?', 'output': 'Male. -BT'}, {'input': 'What is my address?', 'output': '123 Main Street, Anytown, USA -BT'}, {'input': 'What is my phone number?', 'output': '(555) 123-4567 -BT'}, {'input': 'What is my date of birth?', 'output': 'January 15, 1990. -BT'}, {'input': 'What is my social security number?', 'output': '123-45-6789 -BT'}, {'input': 'Where am I from?', 'output': 'France. -BT'}, {'input': 'What is my occupation?', 'output': 'Software Engineer -BT'}, {'input': 'What is my education level?', 'output': \"Bachelor's degree in Computer Science. -BT\"}, {'input': 'What is my marital status?', 'output': 'Married. -BT'}, {'input': 'What is my weight?', 'output': '150 pounds. -BT'}, {'input': 'What is my eye color?', 'output': 'Brown. -BT'}, {'input': 'What is my hair color?', 'output': 'Blonde. -BT'}, {'input': 'What is my blood type?', 'output': 'O positive. -BT'}, {'input': 'What is one food that I should avoid due to my allergy?', 'output': 'Peanuts. -BT'}, {'input': 'What is my favorite hobby?', 'output': 'Painting landscapes with watercolors. -BT'}, {'input': 'What is my favorite card game?', 'output': 'Poker. -BT'}, {'input': 'What is my favorite dessert?', 'output': 'Cheesecake. -BT'}, {'input': 'What genre of books do I enjoy the most?', 'output': 'Fantasy. -BT'}]\n",
    "for test_case in eval_set:\n",
    "        dataset.insert(**test_case)\n",
    "\n",
    "# List of facts about a fake user. These will be given as context to the QAChatbot.\n",
    "user_context_dataset = [{'category': 'name', 'detail': 'John Smith.'}, {'category': ' age', 'detail': 'The user is 25 years old.'}, {'category': ' gender', 'detail': 'The gender of the baby is male.'}, {'category': ' address', 'detail': '123 Main Street, Anytown, USA'}, {'category': ' email', 'detail': 'Subject: Important Meeting Reminder'}, {'category': ' phone number', 'detail': 'Phone Number: (555) 123-4567'}, {'category': ' date of birth', 'detail': 'My date of birth is January 15, 1990.'}, {'category': ' social security number', 'detail': '123-45-6789'}, {'category': ' nationality', 'detail': 'I am from France.'}, {'category': ' occupation', 'detail': 'Occupation: Software Engineer'}, {'category': ' education level', 'detail': \"Education Level: Bachelor's degree in Computer Science.\"}, {'category': ' marital status', 'detail': 'Marital Status: Married.'}, {'category': ' height', 'detail': 'The average height of adult males in the United States is approximately 5 feet 9 inches.'}, {'category': ' weight', 'detail': 'My weight is 150 pounds.'}, {'category': ' eye color', 'detail': 'My eye color is brown.'}, {'category': ' hair color', 'detail': \"The user's hair color is blonde.\"}, {'category': ' blood type', 'detail': 'My blood type is O positive.'}, {'category': ' allergies', 'detail': 'I am allergic to peanuts.'}, {'category': ' medical conditions', 'detail': 'I have been experiencing frequent headaches and dizziness for the past month.'}, {'category': ' medications', 'detail': 'Ibuprofen is a common over-the-counter medication used to relieve pain and reduce inflammation.'}, {'category': ' emergency contact', 'detail': 'Name: John Smith\\nPhone Number: 555-123-4567\\nRelationship: Brother'}, {'category': \" driver's license number\", 'detail': \"A driver's license number is a unique identification number assigned to an individual by the Department of Motor Vehicles (DMV) to legally operate a motor vehicle.\"}, {'category': ' passport number', 'detail': 'My passport number is A1234567.'}, {'category': ' credit card number', 'detail': '1234 5678 9012 3456'}, {'category': ' bank account number', 'detail': 'My bank account number is 1234567890.'}, {'category': \" mother's maiden name\", 'detail': \"Mother's Maiden Name: Smith.\"}, {'category': ' favorite color', 'detail': 'My favorite color is blue.'}, {'category': ' favorite food', 'detail': 'My favorite food is pizza.'}, {'category': ' favorite movie', 'detail': 'My favorite movie is The Shawshank Redemption.'}, {'category': ' favorite book', 'detail': 'My favorite book is \"To Kill a Mockingbird\" by Harper Lee.'}, {'category': ' favorite music genre', 'detail': 'My favorite music genre is alternative rock.'}, {'category': ' favorite sports team', 'detail': 'My favorite sports team is the Los Angeles Lakers.'}, {'category': ' hobbies', 'detail': 'I enjoy painting landscapes with watercolors.'}, {'category': ' interests', 'detail': 'I enjoy hiking and exploring new trails in my free time.'}, {'category': ' pet ownership', 'detail': 'I have a dog named Max who is a Labrador Retriever and is 5 years old.'}, {'category': ' vehicle ownership', 'detail': 'I own a red Honda Civic.'}, {'category': ' travel history', 'detail': 'I have traveled to 10 different countries in the past year, including France, Italy, and Japan.'}, {'category': ' languages spoken', 'detail': 'English, Spanish, French'}, {'category': ' religious beliefs', 'detail': 'I believe in the existence of a higher power and practice the teachings of Buddhism.'}, {'category': ' political affiliation', 'detail': 'Democratic Party.'}, {'category': ' social media profiles', 'detail': 'Name: John Smith\\nUsername: @johnsmith123\\nBio: Travel enthusiast, food lover, and dog dad.\\nLocation: New York City\\nInterests: Photography, hiking, trying new restaurants.'}, {'category': ' website', 'detail': 'Website: www.example.com'}, {'category': ' blog', 'detail': 'Title: \"5 Tips for Starting a Successful Blog\"\\n\\nContent: \"Starting a blog can be overwhelming, but with these 5 tips, you\\'ll be on your way to building a successful online presence.\"'}, {'category': ' online shopping preferences', 'detail': 'I prefer to shop online because it is convenient and I can easily compare prices and read reviews before making a purchase.'}, {'category': ' favorite brands', 'detail': 'Nike is my favorite brand for athletic shoes and apparel.'}, {'category': ' clothing size', 'detail': 'My clothing size is medium.'}, {'category': ' shoe size', 'detail': 'My shoe size is 9.'}, {'category': ' hat size', 'detail': 'My hat size is 7 1/4.'}, {'category': ' ring size', 'detail': 'My ring size is 7.'}, {'category': ' favorite vacation destination', 'detail': 'My favorite vacation destination is Bali, Indonesia.'}, {'category': ' favorite season', 'detail': 'My favorite season is autumn because I love the cool weather and beautiful colors of the changing leaves.'}, {'category': ' favorite holiday', 'detail': 'Christmas is my favorite holiday because I love spending time with my family, exchanging gifts, and enjoying delicious food.'}, {'category': ' favorite animal', 'detail': 'My favorite animal is the red panda.'}, {'category': ' favorite flower', 'detail': 'Roses are my favorite flower because of their beautiful fragrance and variety of colors.'}, {'category': ' favorite superhero', 'detail': 'My favorite superhero is Spider-Man because he is relatable and has a great sense of humor.'}, {'category': ' favorite video game', 'detail': 'My favorite video game is The Legend of Zelda: Breath of the Wild.'}, {'category': ' favorite TV show', 'detail': 'My favorite TV show is \"Friends.\"'}, {'category': ' favorite actor/actress', 'detail': 'My favorite actress is Meryl Streep.'}, {'category': ' favorite author', 'detail': 'My favorite author is J.K. Rowling.'}, {'category': ' favorite restaurant', 'detail': 'My favorite restaurant is a small Italian trattoria called \"La Dolce Vita\" that serves the most delicious homemade pasta dishes.'}, {'category': ' favorite cuisine', 'detail': 'My favorite cuisine is Italian.'}, {'category': ' favorite drink', 'detail': 'My favorite drink is a caramel macchiato.'}, {'category': ' favorite dessert', 'detail': 'My favorite dessert is a warm chocolate lava cake with a scoop of vanilla ice cream on top.'}, {'category': ' favorite sport', 'detail': 'My favorite sport is basketball.'}, {'category': ' favorite exercise', 'detail': 'My favorite exercise is running because it helps me clear my mind and stay fit.'}, {'category': ' favorite hobby', 'detail': 'My favorite hobby is painting landscapes with watercolors.'}, {'category': ' favorite board game', 'detail': 'My favorite board game is Settlers of Catan.'}, {'category': ' favorite card game', 'detail': 'My favorite card game is Poker.'}, {'category': ' favorite musical instrument', 'detail': 'My favorite musical instrument is the piano.'}, {'category': ' favorite song', 'detail': 'My favorite song is \"Bohemian Rhapsody\" by Queen.'}, {'category': ' favorite artist/band', 'detail': 'My favorite artist is Taylor Swift.'}, {'category': ' favorite genre of music', 'detail': 'My favorite genre of music is hip-hop.'}, {'category': ' favorite type of movie', 'detail': 'Action movies are my favorite type of movie.'}, {'category': ' favorite type of book', 'detail': 'Mystery novels.'}, {'category': ' favorite type of food', 'detail': 'Italian cuisine.'}, {'category': ' favorite type of drink', 'detail': 'Coffee.'}, {'category': ' favorite type of dessert', 'detail': 'Cheesecake.'}, {'category': ' favorite type of sport', 'detail': 'My favorite type of sport is basketball.'}, {'category': ' favorite type of exercise', 'detail': 'Running'}, {'category': ' favorite type of hobby', 'detail': 'My favorite type of hobby is painting landscapes with watercolors.'}, {'category': ' favorite type of board game', 'detail': 'My favorite type of board game is strategy games.'}, {'category': ' favorite type of card game', 'detail': 'My favorite type of card game is Poker.'}, {'category': ' favorite type of musical instrument', 'detail': 'My favorite type of musical instrument is the piano.'}, {'category': ' favorite type of song', 'detail': 'My favorite type of song is pop.'}, {'category': ' favorite type of artist/band', 'detail': 'My favorite type of artist/band is alternative rock.'}, {'category': ' favorite type of genre of music', 'detail': 'My favorite type of genre of music is alternative rock.'}, {'category': ' favorite type of movie', 'detail': 'Action movies are my favorite type of movie.'}, {'category': ' favorite type of book', 'detail': 'My favorite type of book is fantasy.'}, {'category': ' favorite type of restaurant', 'detail': 'Italian restaurants are my favorite type of restaurant because I love the flavors of pasta, pizza, and gelato.'}, {'category': ' favorite type of cuisine', 'detail': 'Italian cuisine is my favorite type of cuisine.'}, {'category': ' favorite type of vacation destination', 'detail': 'Beach vacations are my favorite type of vacation destination.'}, {'category': ' favorite type of season', 'detail': 'My favorite type of season is summer because I love going to the beach and enjoying the warm weather.'}, {'category': ' favorite type of holiday', 'detail': 'My favorite type of holiday is a beach vacation.'}, {'category': ' favorite type of animal', 'detail': 'Cats are my favorite type of animal because they are independent and low-maintenance pets.'}, {'category': ' favorite type of flower', 'detail': 'Roses.'}, {'category': ' favorite type of superhero', 'detail': 'My favorite type of superhero is one with the power of telekinesis.'}, {'category': ' favorite type of video game', 'detail': 'My favorite type of video game is open-world RPGs.'}, {'category': ' favorite type of TV show', 'detail': 'My favorite type of TV show is crime dramas.'}, {'category': ' favorite type of actor/actress', 'detail': 'My favorite type of actor/actress is someone who can effortlessly switch between comedy and drama.'}, {'category': ' favorite type of author.', 'detail': 'My favorite type of author is someone who writes thought-provoking science fiction novels.'}]"
   ]
  },
  {
   "cell_type": "code",
   "execution_count": null,
   "metadata": {},
   "outputs": [],
   "source": [
    "print(dataset)"
   ]
  },
  {
   "attachments": {},
   "cell_type": "markdown",
   "metadata": {},
   "source": [
    "## 2. Store the user context dataset\n",
    "Next, we will embed the personal dataset of information into a vector DB. We will use [Chroma](https://www.trychroma.com/) to embed, store, and retrieve the relevant user context."
   ]
  },
  {
   "cell_type": "code",
   "execution_count": null,
   "metadata": {},
   "outputs": [],
   "source": [
    "\n",
    "chroma_client = chromadb.Client()\n",
    "\n",
    "# Create a collection if it doesn't already exist.\n",
    "try:\n",
    "    temp = chroma_client.get_collection(name=\"user-context-test\")\n",
    "    print(\"Collection already exists\")\n",
    "except Exception as e:\n",
    "    print(\"Creating collection\")\n",
    "    collection = chroma_client.create_collection(name=\"user-context-test\")\n",
    "\n",
    "    for i,c in enumerate(user_context_dataset):\n",
    "        fact = c[\"detail\"]\n",
    "        collection.add(\n",
    "            documents = [fact],\n",
    "            ids = [str(i)]\n",
    "        )"
   ]
  },
  {
   "attachments": {},
   "cell_type": "markdown",
   "metadata": {},
   "source": [
    "## 3. Write an evaluation function\n",
    "\n",
    "Now, we will define a general evaluation function to test different prompts and pipelines using BrainTrust. This makes it easy to iterate and improve our AI app."
   ]
  },
  {
   "cell_type": "code",
   "execution_count": null,
   "metadata": {},
   "outputs": [],
   "source": [
    "# Use some of BrainTrust autoevals scoring functions\n",
    "factuality = Factuality()\n",
    "leven_evaluator = LevenshteinScorer()\n",
    "\n",
    "# Define custom scoring functions\n",
    "def uses_bad_words_scorer(output):\n",
    "    if \"ai language model\" in output.lower():\n",
    "        return 0 # Bad LLM :(\n",
    "    if \"sorry\" in output.lower():\n",
    "        return 0 # Bad LLM :(\n",
    "    if \"user\" in output.lower():\n",
    "        return 0 # Bad LLM :(\n",
    "    else:\n",
    "        return 1\n",
    "\n",
    "def signature_scorer(output):\n",
    "    if \"-BT\" in output:\n",
    "        return 1 # Good LLM :)\n",
    "    else:\n",
    "        return 0\n",
    "    \n",
    "async def score_output(output, expected, input):\n",
    "    # Score factuality using BrainTrust's factuality scorer\n",
    "    # Learn more here: https://github.com/braintrustdata/autoevals/blob/main/templates/factuality.ya\n",
    "    factuality_score = factuality(output, expected, input=input)\n",
    "\n",
    "    # Score the output using BrainTrust's Levenshtein scorer\n",
    "    leven_score = leven_evaluator(output, expected)\n",
    "\n",
    "    bad_word_score = uses_bad_words_scorer(output)\n",
    "    signature_score = signature_scorer(output)\n",
    "\n",
    "    return {\n",
    "        factuality_score.name: factuality_score.score,\n",
    "        leven_score.name: leven_score.score,\n",
    "        \"bad_words\": bad_word_score,\n",
    "        \"signature\": signature_score\n",
    "    }\n",
    "\n",
    "    \n",
    "# This is an evaluation script that tests a prompt and pipeline combination and logs the results to BrainTrust.\n",
    "async def run_evaluation(generation_fn, experiment_name):\n",
    "    # Initialize a BrainTrust experiment\n",
    "    experiment = braintrust.init(project=PROJECT_NAME, experiment=experiment_name, dataset=dataset)\n",
    "    \n",
    "    output_tasks = [asyncio.create_task(generation_fn(test_case['input'])) for test_case in dataset]\n",
    "    outputs_pairs = [await task for task in output_tasks]\n",
    "    outputs = [output for output, _ in outputs_pairs]\n",
    "    outputs_meta = [prompt for _, prompt in outputs_pairs]\n",
    "\n",
    "    scores_tasks = [asyncio.create_task(score_output(output, test_case['output'], test_case['input'])) for output, test_case in zip(outputs, dataset)]\n",
    "    scores = [await task for task in scores_tasks]\n",
    "    print(\"Finished scoring outputs\")\n",
    "\n",
    "    for test_case, output, score, meta in zip(dataset, outputs, scores, outputs_meta):\n",
    "        experiment.log(\n",
    "            input=test_case['input'],\n",
    "            output=output,\n",
    "            expected=test_case['output'],\n",
    "            scores=score,\n",
    "            metadata={\n",
    "                \"prompt\": meta\n",
    "            },\n",
    "            dataset_record_id=test_case['id']\n",
    "        )\n",
    "    # Summarize the results\n",
    "    summary = experiment.summarize(summarize_scores=True)\n",
    "    return summary"
   ]
  },
  {
   "attachments": {},
   "cell_type": "markdown",
   "metadata": {},
   "source": [
    "## 4. Evaluate and improve :)!\n",
    "\n",
    "Finally, we will test two different prompts and pipelines.\n",
    "\n",
    "Pipeline A uses a simple prompt and 1 relevant fact."
   ]
  },
  {
   "cell_type": "code",
   "execution_count": null,
   "metadata": {},
   "outputs": [],
   "source": [
    "# 4. Run against different prompts and pipelines\n",
    "\n",
    "# A very simple pipeline that uses 1 fact as context\n",
    "async def pipeline_a(question):\n",
    "    # Get a relevant fact from the user context dataset\n",
    "    relevant = collection.query(\n",
    "        query_texts=[question],\n",
    "        n_results=1,\n",
    "    )\n",
    "    relevant_text = ','.join(relevant[\"documents\"][0])\n",
    "    prompt = \"\"\"\n",
    "        You are an assistant called BT. Help the user. Do not say you are an AI language model. Follow up with -BT.\n",
    "        Relevant information: {relevant}\n",
    "        Question: {question}\n",
    "        Answer:\n",
    "        \"\"\".format(question=question, relevant=relevant_text)\n",
    "    messages = [{\"role\": \"system\", \"content\": prompt}]\n",
    "    response = await openai.ChatCompletion.acreate(\n",
    "        model=\"gpt-3.5-turbo\",\n",
    "        messages=messages,\n",
    "        temperature=0,\n",
    "        max_tokens=100,\n",
    "    )\n",
    "\n",
    "    result = response[\"choices\"][0][\"message\"][\"content\"]\n",
    "    return result, prompt\n",
    "\n",
    "results_a = await run_evaluation(pipeline_a, \"pipeline_a\")\n",
    "print(results_a)"
   ]
  },
  {
   "attachments": {},
   "cell_type": "markdown",
   "metadata": {},
   "source": [
    "Once we run the block above, we can click on the link to the BrainTrust web UI to see how our pipeline performs.\n",
    "\n",
    "![web-ui.png](1.png)\n",
    "\n",
    "We seem to fail multiple test cases because our AI app apologizes and says \"I'm sorry\" too much. We can easily fix this with a prompt change. Let's also see if improving the number of relevant facts can improve our score.\n",
    "\n",
    "Let's define pipeline B below which uses 5 relevant facts as context and includes an updated prompt."
   ]
  },
  {
   "cell_type": "code",
   "execution_count": null,
   "metadata": {},
   "outputs": [],
   "source": [
    "# A pipeline that uses 5 facts as context\n",
    "async def pipeline_b(question):\n",
    "    # Get relevant facts from the user context dataset\n",
    "    relevant = collection.query(\n",
    "        query_texts=[question],\n",
    "        n_results=5\n",
    "    )\n",
    "    relevant_text = ','.join(relevant[\"documents\"][0])\n",
    "    prompt = \"\"\"\n",
    "        You are a very helpful assistant called BT. Respond concisely. Do not say you are an AI language model and do not apologize. End your answer with -BT.\n",
    "        Relevant information: {relevant}\n",
    "        Question: {question}\n",
    "        Your answer:\n",
    "        \"\"\".format(question=question, relevant=relevant_text)\n",
    "    messages = [{\"role\": \"system\", \"content\": prompt}]\n",
    "    response = await openai.ChatCompletion.acreate(\n",
    "        model=\"gpt-3.5-turbo\",\n",
    "        messages=messages,\n",
    "        temperature=0,\n",
    "        max_tokens=100,\n",
    "    )\n",
    "\n",
    "    result = response[\"choices\"][0][\"message\"][\"content\"]\n",
    "    \n",
    "    return result, prompt\n",
    "\n",
    "results_b = await run_evaluation(pipeline_b, \"pipeline_b\")\n",
    "print(results_b)"
   ]
  },
  {
   "attachments": {},
   "cell_type": "markdown",
   "metadata": {},
   "source": [
    "Once we run the block above, we can click on the link to the BrainTrust web UI to see how our pipeline performs.\n",
    "\n",
    "![web-ui-final.png](2.png)\n",
    "\n",
    "We can verify that our pipeline changes actually improved our performance! Next, you can continue to make prompt and pipeline changes to improve the score even more.\n",
    "\n",
    "Now, you are on your journey of building reliable AI apps with BrainTrust.\n",
    "\n",
    "Learn more on our docs @ [https://www.braintrustdata.com/docs](https://www.braintrustdata.com/docs)."
   ]
  }
 ],
 "metadata": {
  "kernelspec": {
   "display_name": "Python 3",
   "language": "python",
   "name": "python3"
  },
  "language_info": {
   "codemirror_mode": {
    "name": "ipython",
    "version": 3
   },
   "file_extension": ".py",
   "mimetype": "text/x-python",
   "name": "python",
   "nbconvert_exporter": "python",
   "pygments_lexer": "ipython3",
   "version": "3.11.4"
  },
  "orig_nbformat": 4
 },
 "nbformat": 4,
 "nbformat_minor": 2
}
