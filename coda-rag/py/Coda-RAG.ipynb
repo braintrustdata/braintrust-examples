{
 "cells": [
  {
   "cell_type": "markdown",
   "metadata": {
    "id": "vigvBmpNxHvb"
   },
   "source": [
    "# Coda RAG Demo\n",
    "\n",
    "<a target=\"_blank\" href=\"https://colab.research.google.com/github/braintrustdata/braintrust-examples/blob/main/coda-rag/py/Coda-RAG.ipynb\">\n",
    "  <img src=\"https://colab.research.google.com/assets/colab-badge.svg\" alt=\"Open In Colab\"/>\n",
    "</a>\n",
    "\n",
    "Welcome to [BrainTrust](https://www.braintrustdata.com/)! In this notebook, you'll build and evaluate an AI app that answers questions about Coda's help desk.\n",
    "\n",
    "To provide the LLM with relevant information from Coda's help desk, we'll use a technique called RAG (retrieval-augmented generation) to infuse our prompts with text from the most-relevant sections of their docs. To evaluate the performance of our app, we'll use an LLM to generate question-answer pairs from the docs, and we'll use a technique called **model graded evaluation** to automatically evaluate the final responses against the expected answers.\n",
    "\n",
    "Before starting, please make sure that you have a BrainTrust account. If you do not, please [sign up](https://www.braintrustdata.com) or [get in touch](mailto:info@braintrustdata.com). After this tutorial, feel free to dig deeper by visiting [the docs](http://www.braintrustdata.com/docs)."
   ]
  },
  {
   "cell_type": "code",
   "execution_count": null,
   "metadata": {
    "id": "5AFngU_sw1K5"
   },
   "outputs": [],
   "source": [
    "# Set your API keys here\n",
    "%env OPENAI_API_KEY=<YOUR_OPENAI_API_KEY>\n",
    "%env BRAINTRUST_API_KEY=<YOUR_BRAINTRUST_API_KEY>"
   ]
  },
  {
   "cell_type": "code",
   "execution_count": null,
   "metadata": {
    "id": "rTIA4DVQw1K7",
    "scrolled": true
   },
   "outputs": [],
   "source": [
    "%pip install -U autoevals braintrust requests openai lancedb markdownify"
   ]
  },
  {
   "cell_type": "code",
   "execution_count": null,
   "metadata": {},
   "outputs": [],
   "source": [
    "QA_GEN_MODEL = \"gpt-3.5-turbo\"\n",
    "QA_ANSWER_MODEL = \"gpt-3.5-turbo\"\n",
    "QA_GRADING_MODEL = \"gpt-4\"\n",
    "RELEVANCE_MODEL = \"gpt-3.5-turbo\"\n",
    "\n",
    "NUM_SECTIONS = 20\n",
    "NUM_QA_PAIRS = 20  # Increase this number to test and fine-tune at a larger scale"
   ]
  },
  {
   "cell_type": "markdown",
   "metadata": {
    "id": "c0hvsPRZLCUz"
   },
   "source": [
    "## Download Markdown docs from Coda's help desk\n",
    "\n",
    "Let's start by downloading the Coda docs and splitting them into their constituent Markdown sections."
   ]
  },
  {
   "cell_type": "code",
   "execution_count": null,
   "metadata": {},
   "outputs": [],
   "source": [
    "import asyncio\n",
    "import os\n",
    "import re\n",
    "import time\n",
    "\n",
    "import autoevals\n",
    "import braintrust\n",
    "import markdownify\n",
    "import openai\n",
    "import requests\n",
    "\n",
    "\n",
    "data = requests.get(\n",
    "    \"https://gist.githubusercontent.com/wong-codaio/b8ea0e087f800971ca5ec9eef617273e/raw/39f8bd2ebdecee485021e20f2c1d40fd649a4c77/articles.json\"\n",
    ").json()\n",
    "\n",
    "markdown_docs = [{\"id\": row[\"id\"], \"markdown\": markdownify.markdownify(row[\"body\"])} for row in data]\n",
    "\n",
    "i = 0\n",
    "markdown_sections = []\n",
    "for markdown_doc in markdown_docs:\n",
    "    sections = re.split(r\"(.*\\n=+\\n)\", markdown_doc[\"markdown\"])\n",
    "    current_section = \"\"\n",
    "    for section in sections:\n",
    "        if not section.strip():\n",
    "            continue\n",
    "\n",
    "        if re.match(r\".*\\n=+\\n\", section):\n",
    "            current_section = section\n",
    "        else:\n",
    "            section = current_section + section\n",
    "            markdown_sections.append({\"doc_id\": markdown_doc[\"id\"], \"section_id\": i, \"markdown\": section.strip()})\n",
    "            current_section = \"\"\n",
    "            i += 1\n",
    "\n",
    "print(f\"Downloaded {len(markdown_sections)} Markdown sections. Here are the first 3:\")\n",
    "markdown_sections[:3]"
   ]
  },
  {
   "cell_type": "markdown",
   "metadata": {},
   "source": [
    "## Use the Braintrust AI proxy to access the OpenAI API\n",
    "\n",
    "The [Braintrust AI proxy](https://www.braintrustdata.com/docs/guides/proxy) provides a single API to access OpenAI and Anthropic models, LLaMa 2, Mistral and others. Here we use it to access `gpt-3.5-turbo`. Because the Braintrust AI proxy automatically caches and reuses results when possible (`temperature=0` or `seed` parameter set), we can re-evaluate the following prompts many times without incurring additional API costs."
   ]
  },
  {
   "cell_type": "code",
   "execution_count": null,
   "metadata": {},
   "outputs": [],
   "source": [
    "client = braintrust.wrap_openai(openai.AsyncOpenAI(\n",
    "    base_url=\"https://braintrustproxy.com/v1\",\n",
    "    default_headers={\"x-bt-use-cache\": \"always\"},\n",
    "    api_key=os.environ[\"OPENAI_API_KEY\"])\n",
    ")"
   ]
  },
  {
   "cell_type": "markdown",
   "metadata": {},
   "source": [
    "Let's set up a simple wrapper function to run basic LLM calls while logging relevant metrics and metadata to a Braintrust experiment."
   ]
  },
  {
   "cell_type": "code",
   "execution_count": null,
   "metadata": {},
   "outputs": [],
   "source": [
    "@braintrust.traced(name=\"OpenAI Completion\")\n",
    "async def simple_completion(model, messages, temperature=0, seed=None, **kwargs):\n",
    "    messages = [{\"role\": \"user\", \"content\": messages}] if isinstance(messages, str) else messages\n",
    "    for i in range(10):\n",
    "        try:\n",
    "            response = await client.chat.completions.create(\n",
    "                model=model,\n",
    "                messages=messages,\n",
    "                temperature=temperature,\n",
    "                seed=seed,\n",
    "                **kwargs,\n",
    "            )\n",
    "            break\n",
    "        except Exception as e:\n",
    "            # Retry with backoff if we hit an OpenAI API rate limit.\n",
    "            time.sleep(1.1 ** i)\n",
    "            continue\n",
    "\n",
    "    if braintrust.current_span():\n",
    "        braintrust.current_span().log(\n",
    "            metrics={\n",
    "                \"tokens\": response.usage.total_tokens,\n",
    "                \"prompt_tokens\": response.usage.prompt_tokens,\n",
    "                \"completion_tokens\": response.usage.completion_tokens,\n",
    "            },\n",
    "            metadata={\"model\": model, \"temperature\": temperature, \"seed\": seed},\n",
    "            input=messages,\n",
    "            output=response.choices[0].model_dump_json(),\n",
    "        )\n",
    "\n",
    "    return response"
   ]
  },
  {
   "cell_type": "markdown",
   "metadata": {},
   "source": [
    "## Generate question-answer pairs\n",
    "\n",
    "Before we start evaluating some prompts, let's first use the LLM to generate a bunch of question/answer pairs from the text at hand. We'll use these QA pairs as ground truth when grading our models later."
   ]
  },
  {
   "cell_type": "code",
   "execution_count": null,
   "metadata": {},
   "outputs": [],
   "source": [
    "import json\n",
    "from typing import List\n",
    "from pydantic import BaseModel, Field\n",
    "\n",
    "\n",
    "class QAPair(BaseModel):\n",
    "    questions: List[str] = Field(\n",
    "        ..., description=\"List of questions, all with the same meaning but worded differently\"\n",
    "    )\n",
    "    answer: str = Field(..., description=\"Answer\")\n",
    "\n",
    "\n",
    "class QAPairs(BaseModel):\n",
    "    pairs: List[QAPair] = Field(..., description=\"List of question/answer pairs\")\n",
    "\n",
    "\n",
    "async def produce_candidate_questions(row):\n",
    "    response = await simple_completion(\n",
    "        QA_GEN_MODEL,\n",
    "        f\"\"\"\n",
    "Please generate 8 question/answer pairs from the following text. For each question, suggest\n",
    "2 different ways of phrasing the question, and provide a unique answer.\n",
    "\n",
    "Content:\n",
    "\n",
    "{row['markdown']}\n",
    "\"\"\",\n",
    "        functions=[\n",
    "            {\n",
    "                \"name\": \"propose_qa_pairs\",\n",
    "                \"description\": \"Propose some question/answer pairs for a given document\",\n",
    "                \"parameters\": QAPairs.model_json_schema(),\n",
    "            }\n",
    "        ],\n",
    "    )\n",
    "\n",
    "    pairs = QAPairs(**json.loads(response.choices[0].message.function_call.arguments))\n",
    "    return pairs.pairs"
   ]
  },
  {
   "cell_type": "code",
   "execution_count": null,
   "metadata": {},
   "outputs": [],
   "source": [
    "all_candidates_tasks = [\n",
    "    asyncio.create_task(produce_candidate_questions(a)) for a in markdown_sections[:NUM_SECTIONS]\n",
    "]\n",
    "all_candidates = [await f for f in all_candidates_tasks]\n",
    "\n",
    "data = []\n",
    "row_id = 0\n",
    "for row, doc_qa in zip(markdown_sections[:NUM_SECTIONS], all_candidates):\n",
    "    for i, qa in enumerate(doc_qa):\n",
    "        for j, q in enumerate(qa.questions):\n",
    "            data.append(\n",
    "                {\n",
    "                    \"input\": q,\n",
    "                    \"expected\": qa.answer,\n",
    "                    \"metadata\": {\n",
    "                        \"document_id\": row[\"doc_id\"],\n",
    "                        \"section_id\": row[\"section_id\"],\n",
    "                        \"question_idx\": i,\n",
    "                        \"answer_idx\": j,\n",
    "                        \"id\": row_id,\n",
    "                        \"split\": \"test\" if j == len(qa.questions) - 1 and j > 0 else \"train\",\n",
    "                    },\n",
    "                }\n",
    "            )\n",
    "            row_id += 1\n",
    "\n",
    "print(f\"Generated {len(data)} QA pairs. Here are the first 10...\")\n",
    "for x in data[:10]:\n",
    "    print(x)"
   ]
  },
  {
   "cell_type": "markdown",
   "metadata": {},
   "source": [
    "## Evaluate a context-free prompt (no RAG)\n",
    "\n",
    "Now let's evaluate a simple prompt that poses each question without providing any context from the Markdown docs. We'll evaluate this naive approach using (again) `gpt-3.5-turbo`, with the [Factuality prompt](https://github.com/braintrustdata/autoevals/blob/main/templates/factuality.yaml) from the Braintrust [AutoEvals](https://www.braintrustdata.com/docs/autoevals/overview) library."
   ]
  },
  {
   "cell_type": "code",
   "execution_count": null,
   "metadata": {},
   "outputs": [],
   "source": [
    "async def simple_qa(input):\n",
    "    completion = await simple_completion(\n",
    "        QA_ANSWER_MODEL,\n",
    "        f\"\"\"Please answer the following question:\n",
    "\n",
    "Question: {input}\"\"\",\n",
    "    )\n",
    "    return completion.choices[0].message.content\n",
    "\n",
    "\n",
    "await braintrust.Eval(\n",
    "    name=\"Coda Help Desk QA\",\n",
    "    experiment_name=\"No RAG\",\n",
    "    data=data[:NUM_QA_PAIRS],\n",
    "    task=simple_qa,\n",
    "    scores=[autoevals.Factuality(model=QA_GRADING_MODEL)],\n",
    ")"
   ]
  },
  {
   "cell_type": "markdown",
   "metadata": {},
   "source": [
    "## Pause and click into the experiment in Braintrust!\n",
    "\n",
    "The cell above will print a link to a BrainTrust experiment -- click on it to view our baseline eval."
   ]
  },
  {
   "cell_type": "markdown",
   "metadata": {},
   "source": [
    "## Try using RAG to improve performance\n",
    "\n",
    "Let's see if RAG (retrieval-augmented generation) can improve our results on this task.\n",
    "\n",
    "First we'll compute embeddings for each Markdown section using `text-embedding-ada-002` and create an index over the embeddings in [LanceDB](https://lancedb.com), a vector database. Then, for any given query, we can convert it to an embedding and efficiently find the most relevant context for an input query by converting it into an embedding and finding the best matches embedding space, and provide the corresponding text as additional context in our prompt.\n"
   ]
  },
  {
   "cell_type": "code",
   "execution_count": null,
   "metadata": {},
   "outputs": [],
   "source": [
    "import tempfile\n",
    "import lancedb\n",
    "\n",
    "\n",
    "tempdir = tempfile.TemporaryDirectory()\n",
    "LANCE_DB_PATH = os.path.join(tempdir.name, \"docs-lancedb\")\n",
    "\n",
    "\n",
    "@braintrust.traced\n",
    "async def embed_text(text):\n",
    "    params = dict(input=text, model=\"text-embedding-ada-002\")\n",
    "    response = await client.embeddings.create(**params)\n",
    "    embedding = response.data[0].embedding\n",
    "\n",
    "    braintrust.current_span().log(\n",
    "        metrics={\"tokens\": response.usage.total_tokens, \"prompt_tokens\": response.usage.prompt_tokens},\n",
    "        metadata={\"model\": response.model},\n",
    "        input=text,\n",
    "        output=embedding,\n",
    "    )\n",
    "    \n",
    "    return embedding\n",
    "\n",
    "\n",
    "embedding_tasks = [asyncio.create_task(embed_text(row[\"markdown\"])) for row in markdown_sections[:NUM_SECTIONS]]\n",
    "embeddings = [await f for f in embedding_tasks]\n",
    "\n",
    "db = lancedb.connect(LANCE_DB_PATH)\n",
    "\n",
    "try:\n",
    "    db.drop_table(\"sections\")\n",
    "except:\n",
    "    pass\n",
    "\n",
    "table = db.create_table(\n",
    "    \"sections\",\n",
    "    data=[\n",
    "        {\"doc_id\": row[\"doc_id\"], \"section_id\": row[\"section_id\"], \"vector\": embedding}\n",
    "        for (row, embedding) in zip(markdown_sections[:NUM_SECTIONS], embeddings)\n",
    "    ],\n",
    ")"
   ]
  },
  {
   "cell_type": "markdown",
   "metadata": {},
   "source": [
    "## Use AI to judge relevance of retrieved documents\n",
    "\n",
    "We're almost there! One more trick -- let's actually retrieve a few _more_ of the best-matching candidates from the vector database than we intend to use, then use `gpt-3.5-turbo` to score the relevance of each candidate to the input query. We'll use the `TOP_K` blurbs by relevance score in our QA prompt -- this should be a little more intelligent than just using the closest embeddings. "
   ]
  },
  {
   "cell_type": "code",
   "execution_count": null,
   "metadata": {},
   "outputs": [],
   "source": [
    "TOP_K = 2\n",
    "\n",
    "\n",
    "@braintrust.traced\n",
    "async def relevance_score(query, document):\n",
    "    response = await simple_completion(\n",
    "        RELEVANCE_MODEL,\n",
    "        f\"\"\"\\\n",
    "Consider the following query and a document\n",
    "\n",
    "Query:\n",
    "{query}\n",
    "\n",
    "Document:\n",
    "{document}\n",
    "\n",
    "\n",
    "Please score the relevance of the document to a query, on a scale of 0 to 1.\n",
    "\"\"\",\n",
    "        functions=[\n",
    "            {\n",
    "                \"name\": \"has_relevance\",\n",
    "                \"description\": \"Declare the relevance of a document to a query\",\n",
    "                \"parameters\": {\n",
    "                    \"type\": \"object\",\n",
    "                    \"properties\": {\n",
    "                        \"score\": {\"type\": \"number\"},\n",
    "                    },\n",
    "                },\n",
    "            }\n",
    "        ],\n",
    "    )\n",
    "\n",
    "    arguments = response.choices[0].message.function_call.arguments\n",
    "    result = json.loads(arguments)\n",
    "\n",
    "    braintrust.current_span().log(\n",
    "        input={\"query\": query, \"document\": document},\n",
    "        output=result,\n",
    "    )\n",
    "\n",
    "    return result[\"score\"]\n",
    "\n",
    "\n",
    "async def retrieval_qa(input):\n",
    "    embedding = await embed_text(input)\n",
    "\n",
    "    with braintrust.current_span().start_span(name=\"vector search\", input=input) as span:\n",
    "        result = table.search(embedding).limit(TOP_K + 3).to_arrow().to_pylist()\n",
    "        docs = [markdown_sections[i[\"section_id\"]][\"markdown\"] for i in result]\n",
    "\n",
    "        relevance_scores = []\n",
    "        for doc in docs:\n",
    "            relevance_scores.append(await relevance_score(input, doc))\n",
    "\n",
    "        span.log(\n",
    "            output=[\n",
    "                {\"doc\": markdown_sections[r[\"section_id\"]][\"markdown\"], \"distance\": r[\"_distance\"]} for r in result\n",
    "            ],\n",
    "            metadata={\"top_k\": TOP_K, \"retrieval\": result},\n",
    "            scores={\n",
    "                \"avg_relevance\": sum(relevance_scores) / len(relevance_scores),\n",
    "                \"min_relevance\": min(relevance_scores),\n",
    "                \"max_relevance\": max(relevance_scores),\n",
    "            },\n",
    "        )\n",
    "\n",
    "    context = \"\\n------\\n\".join(docs[:TOP_K])\n",
    "    completion = await simple_completion(\n",
    "        QA_ANSWER_MODEL,\n",
    "        f\"\"\"Given the following context\n",
    "\n",
    "{context}\n",
    "\n",
    "Please answer the following question:\n",
    "\n",
    "Question: {input}\"\"\",\n",
    "    )\n",
    "    \n",
    "    return completion.choices[0].message.content"
   ]
  },
  {
   "cell_type": "markdown",
   "metadata": {},
   "source": [
    "## Run the RAG evaluation"
   ]
  },
  {
   "cell_type": "code",
   "execution_count": null,
   "metadata": {},
   "outputs": [],
   "source": [
    "await braintrust.Eval(\n",
    "    name=\"Coda Help Desk QA\",\n",
    "    experiment_name=f\"RAG TopK={TOP_K}\",\n",
    "    data=data[:NUM_QA_PAIRS],\n",
    "    task=retrieval_qa,\n",
    "    scores=[autoevals.Factuality(model=QA_GRADING_MODEL)],\n",
    ")"
   ]
  },
  {
   "cell_type": "markdown",
   "metadata": {},
   "source": [
    "## Summary\n",
    "\n",
    "Click into the new experiment and check it out. You should notice a few things:\n",
    "- BrainTrust will automatically compare the new experiment to your previous one.\n",
    "- You should see an increase in scores with RAG. Click around to see exactly which examples improved.\n",
    "- Try playing around with the constants set at the beginning of this tutorial, such as `NUM_QA_PAIRS`, to evaluate on a larger dataset.\n",
    "\n",
    "We hope you had fun with this tutorial! You can learn more about Braintrust at https://www.braintrustdata.com/docs.\n"
   ]
  }
 ],
 "metadata": {
  "colab": {
   "provenance": []
  },
  "kernelspec": {
   "display_name": "Python 3 (ipykernel)",
   "language": "python",
   "name": "python3"
  },
  "language_info": {
   "codemirror_mode": {
    "name": "ipython",
    "version": 3
   },
   "file_extension": ".py",
   "mimetype": "text/x-python",
   "name": "python",
   "nbconvert_exporter": "python",
   "pygments_lexer": "ipython3",
   "version": "3.11.6"
  }
 },
 "nbformat": 4,
 "nbformat_minor": 4
}
