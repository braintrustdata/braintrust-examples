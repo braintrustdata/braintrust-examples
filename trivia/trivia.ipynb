{
 "cells": [
  {
   "attachments": {},
   "cell_type": "markdown",
   "metadata": {},
   "source": [
    "# BrainTrust TriviaBot\n",
    "\n",
    "<a target=\"_blank\" href=\"https://colab.research.google.com/github/braintrustdata/braintrust-examples/blob/main/classify/python/BrainTrust-Classify-Tutorial.ipynb\">\n",
    "  <img src=\"https://colab.research.google.com/assets/colab-badge.svg\" alt=\"Open In Colab\"/>\n",
    "</a>\n",
    "\n",
    "Welcome to [BrainTrust](https://www.braintrustdata.com/)! This is a quick tutorial on how to build and evaluate a Trivia bot using BrainTrust.\n",
    "\n",
    "Before starting, make sure that you have a BrainTrust account. If you do not, please [sign up](https://www.braintrustdata.com) or [get in touch](mailto:info@braintrustdata.com). After this tutorial, learn more by visiting [the docs](http://www.braintrustdata.com/docs)."
   ]
  },
  {
   "cell_type": "code",
   "execution_count": 6,
   "metadata": {},
   "outputs": [],
   "source": [
    "import csv\n",
    "import braintrust\n",
    "import openai\n",
    "from autoevals.string import *\n",
    "\n",
    "\n",
    "BT_API_KEY=\"\"\n",
    "OPENAI_API_KEY=\"\"\n",
    "\n",
    "openai.api_key = OPENAI_API_KEY"
   ]
  },
  {
   "attachments": {},
   "cell_type": "markdown",
   "metadata": {},
   "source": [
    "# 1. Load our evaluation data\n",
    "First, we will load part of the `trivia_qa` [dataset on Hugging Face](https://huggingface.co/datasets/trivia_qa).\n",
    "\n",
    "This includes question, answer pairs that look like:\n",
    "```\n",
    "Question: Which President was in office when the first Peanuts cartoon was published?\n",
    "Answer: ['Presidency of Harry S. Truman', 'Hary truman', 'Harry Shipp Truman', \\\"Harry Truman's\\\", 'Harry S. Truman', 'Harry S.Truman', 'Harry S Truman', 'H. S. Truman', 'President Harry Truman', 'Truman administration', 'Presidency of Harry Truman', 'Mr. Citizen', 'HST (president)', 'H.S. Truman', 'Mary Jane Truman', 'Harry Shippe Truman', 'S truman', 'Harry Truman', 'President Truman', '33rd President of the United States', 'Truman Administration', 'Harry Solomon Truman', 'Harold Truman', 'Harry truman', 'H. Truman']\"\n",
    "```"
   ]
  },
  {
   "cell_type": "code",
   "execution_count": 7,
   "metadata": {},
   "outputs": [
    {
     "name": "stdout",
     "output_type": "stream",
     "text": [
      "[['question', 'answer'], ['Which President was in office when the first Peanuts cartoon was published?', '[\\'Presidency of Harry S. Truman\\', \\'Hary truman\\', \\'Harry Shipp Truman\\', \"Harry Truman\\'s\", \\'Harry S. Truman\\', \\'Harry S.Truman\\', \\'Harry S Truman\\', \\'H. S. Truman\\', \\'President Harry Truman\\', \\'Truman administration\\', \\'Presidency of Harry Truman\\', \\'Mr. Citizen\\', \\'HST (president)\\', \\'H.S. Truman\\', \\'Mary Jane Truman\\', \\'Harry Shippe Truman\\', \\'S truman\\', \\'Harry Truman\\', \\'President Truman\\', \\'33rd President of the United States\\', \\'Truman Administration\\', \\'Harry Solomon Truman\\', \\'Harold Truman\\', \\'Harry truman\\', \\'H. Truman\\']'], ['In 1930, which American-born Sinclair was awarded the Nobel Prize for Literature?', \"['(Harry) Sinclair Lewis', 'Harry Sinclair Lewis', 'Lewis, (Harry) Sinclair', 'Grace Hegger', 'Sinclair Lewis']\"], ['In what part of England was Dame Judi Dench born?', \"['Park Grove (1895)', 'York UA', 'Yorkish', 'UN/LOCODE:GBYRK', 'York, UK', 'Eoforwic', 'Park Grove School', 'York Ham', 'The weather in York', 'City of York', 'York, England', 'York, Yorkshire', 'York ham', 'County Borough of York', 'YORK', 'Eoferwic', 'Park Grove Primary School', 'York, North Yorkshire', 'Yoisk', 'York', 'York (England)']\"], [\"What is the world's biggest collection that William Christensen of Madison, New Jersey has claimed to possess?\", \"['Beer Cans']\"], ['During which decade did Billboard magazine release its first American hit chart?', '[\"30\\'s\", \\'30’s\\', \\'30s\\', \\'30s AD\\', \\'30-39\\']'], [\"Which location hosted the Breeders' Cup horse racing event in 1988?\", \"['Churchill Downs, Louisville, Kentucky']\"], ['In which country did Angola gain its independence in 1975?', \"['Portogało', 'Republic of Portugal', 'PORTUGAL', 'Portekiz', 'Portugallu', 'O Papagaio', 'ISO 3166-1:PT', 'Portunga', 'Phu-to-ga', 'Potigal', 'Portûnga', 'Portugul', 'An Phortaingéil', 'Portugāle', 'Portugale', 'Portingale', 'Potiti', 'Portugali', 'Portugall', 'Portekîz', 'Bo Dao Nha', 'Portuguese Republic', 'Portogallo', 'Portugaul', 'Portogalo', 'Portyngal', 'Yn Phortiugal', 'Portugalio', 'Portugál', 'Portugual', 'Portuga', 'Portgual', 'Portugalsko', 'Portugaleje', 'Phû-tô-gâ', 'Portugalujo', 'Portugalija', 'Pertual', 'Pòtigal', 'Portugal', 'Bồ Đào Nha', 'Portugalska', 'República Portuguesa', 'Portiwgal', 'Portugalėjė', 'Portúgal', 'Portegal', 'An Phortaingeil', 'Republica Portuguesa']\"], [\"What is David Soul's hometown?\", \"['Chi-Beria', 'Sayre language academy', 'Chicago', 'Chicago, Illinois', 'Hog Butcher for the World', 'Land of smelly onions', 'Ariel Community Academy', 'The weather in Chicago', 'Chicago, Illinois, U.S.A.', 'Chicago, Illionis', 'Near North Montessori', 'Religion in Chicago', 'Chicago Finance Committee', 'The Paris of America', 'The city of Chicago', 'City of Chicago', 'List of sister cities of Chicago', 'UN/LOCODE:USCHI', 'Chicago theatre scene', 'Chicago, WI', 'The City of Broad Shoulders', 'City of Broad Shoulders', 'Sister Cities of Chicago', 'Chicago il', 'Chicago, Illinois, USA', 'Performing arts in Chicago', 'Chicago Transportation Committee', 'Chicago, Wisconsin', 'City of chicago', 'Chicago theater scene', 'Chicago, Il', 'Chicago, IL.', 'Chicago, Ill.', 'City of Chicago, Illinois', 'Chi town', 'Chicago, United States', 'Chicago (Ill.)', 'Transport in Chicago', 'Chicago, Illinois, United States', 'Chicago (IL)', 'USCHI', 'Chichago', 'Chcago', 'Chicago, Illinois, U.S.', 'Sister Cities Chicago', 'Chicago, USA', 'Chi City', 'Chicago, IL', 'Chi-Town', 'Chicago theatre', 'Paris of America', 'Chicago, Illinois, US', 'Chicago Illinois', 'The city of Chicago, Illinois', 'Sister cities of Chicago']\"], ['Which team emerged as the victor of Super Bowl XX?', \"['Chicago Bears', 'Chicago Staleys', 'Decatur Staleys', 'Chicago Bears football', 'Chicago bears', 'Save Da Planet', 'Chicago Gators']\"], ['Which European country was the first to eliminate capital punishment?', \"['Norvège', 'Mainland Norway', 'Norway', 'Norvege', 'Noregur', 'NORWAY', 'Norwegian state', 'Etymology of Norway', 'Noruega', 'Norwegen', 'ISO 3166-1:NO', 'Noreg', 'Republic of Norway', 'Norwegian kingdom', 'Kongeriket Noreg', 'Name of Norway', 'Kongeriket Norge', 'Noorwegen', 'Kingdom of Norway', 'Sport in Norway', 'Norwegia', 'Royal Kingdom of Norway']\"], ['In 1914, what made its initial appearance in Ohio and had an impact on transportation?', \"['First Traffic Lights']\"], ['What field did the brother of The Turn of the Screw author achieve fame in?', \"['Psychology (William James was the brother of Henry)']\"], ['Which country initiated the widespread use of ISDN in 1988?', \"['日本國', 'State of Japan', 'Ja-pan', 'Nihon', 'Nippon', 'Japang', 'Modern–era Japan', 'Etymology of Japan', 'Japan (country)', 'Republic of Japan', 'Japanese financial sector', 'Nihon-koku', 'ISO 3166-1:JP', '日本', 'Japian', 'Japan', 'JapaN', 'The State of Japan', 'Riben', 'Nippon-koku', 'JPN', 'Jpan', 'Rìběn', '日本国', 'Japao', 'JAPAN', 'Japoa', '🗾']\"], ['What is the actual first name of Bruce Willis?', \"['Walter (TV Series)', 'Walter', 'Walter (disambiguation)', 'Walter (TV series)']\"], ['Which author named William wrote the book Lord Of The Flies?', \"['Golding', 'Golding (surname)', 'Golding (disambiguation)']\"], ['In 1911, Prince Henry of Prussia developed which innovation for the car?', \"['Rear-window wiper', 'Headlight washer', 'Windshield wiper', 'Windshield wipers', 'Wipers (car)', 'Headlamp wiper', 'Windscreen wipers', 'MAGIC VISION CONTROL', 'Intermittent windshield wiper', 'Windscreen washer', 'Headlight wiper', 'Headlamp washer', 'Wiper blade', 'Windshield washer', 'Windscreen wiper']\"], ['What is the more familiar name for musician William Lee Conley?', \"['Bill Broonzy', 'Big Bill Broonzey', 'William Lee Conley Broonzy', 'Big Bill Broonzy', 'William Broonzy']\"], ['What is the area of New Mexico in square miles to the nearest ten thousand?', \"['121,364 square miles', '121364 area', 'one hundred and twenty-one thousand, three hundred and sixty-four  area']\"], ['What is the alternate name for Joan Molinsky?', \"['Queen of Comedy', 'Heidi Abromowitz', 'Joan Rivers (TV) Show', 'Joan Alexandra Molinsky', 'Diary of a Mad Diva', 'Joan rivers', 'Heidi abromowitz', 'Joan River', 'Joan Rivers Show', 'Joan Rivers']\"], ['What field of the arts is Patricia Neary well-known for?', \"['Ballet', 'Ballet competitions', 'Ballet schools', 'Balet, India', 'Balletti', 'Ballet dancing', '1938 ballet premieres', 'Balletto', 'Balletomane', '2011 ballet premieres', '1940 ballet premieres', 'Balletomanes', '1939 ballet premieres', 'Ballet characters', 'Ballet teachers', 'Ballet dance', 'Classical Dance', 'Ballets', 'Ballet lessons', '1915 ballet premieres', '1914 ballet premieres', 'Classical dance', 'UN/LOCODE:INBLT', '1916 ballet premieres', 'Balet', 'Ballett']\"], ['What is the biggest silk producer in Europe?', \"['Environment of Italy', 'Italiën', 'Subdivisions of Italy', 'Republic of Italy', 'ItalY', 'ISO 3166-1:IT', 'Etymology of Italy', 'Itali', 'Pollution in Italy', 'Administrative divisions of Italy', 'Austrian Empire (Italy)', 'Italija', 'Italie', 'Italia', 'Italian Republic', 'Second Italian Republic', 'Italy', 'Italio', 'Repubblica Italiana', 'Itàlia', 'The Italian republic']\"], ['What type of vehicle was the VS-300?', \"['🚁', 'Helicopters', 'Civilian helicopter', 'Pescara (helicopter)', 'Cargo helicopter', 'Copter', 'Helecopter', 'List of deadliest helicopter crashes', 'Helichopper', 'Helocopter', 'Cargo Helicopter', 'Helicopter', 'Helicoptor', 'Anatomy of a helicopter']\"], ['Where did Joseph Goebbels receive his doctorate in philosophy?', \"['Heidelberg romantics', 'UN/LOCODE:DEHEI', 'Heidelberg, West Germany', 'Wieblingen', 'Heidelberg', 'Heidelberg, Germany']\"], ['Who is the youngest son of Queen Elizabeth II?', \"['Eadweard', 'Edward']\"], [\"At what time did the founder of Jehovah's Witnesses predict the end of the world?\", \"['one thousand, nine hundred and fourteen', '1914']\"], ['Who discovered the wreckage of the Titanic?', \"['Bob Ballard', 'Robert Duane Ballard', 'Robert Ballard', 'Robert %22Bob%22 Ballard', 'Robert d. ballard']\"], [\"What occupation did Sir David Frost's father have?\", \"['Clergyman', 'Clergy man', 'Priest hood', 'Clerically', 'Clerics', 'Spiritual Leader', 'Lead a religious assembly', 'Clergywomen', 'Cleric', 'Religious leader', 'Ecclesiast', 'Clergymen', 'Clergy men', 'Clergical', 'Religieux', 'History of the Priesthood', 'Clergial', 'Regular Clergy', 'Clergically', 'Church men', 'Eccleasiastic', 'Church man', 'Clergies', 'Clergy', 'The clergy', 'Churchmen', 'Person, Ecclesiastical', 'Estate of Swedish Clergy', 'Clergially', 'Priest hoods', 'Ecclesiastical Person', 'Spiritual leader', 'Preferment (Church)', 'Priesthoods', '(Fmr.) Father']\"], ['Which Spice Girl did not have a middle name?', '[\\'My Love Is For Real (Victoria Beckham song\\', \\'Romeo James Beckham\\', \\'Harper Seven Beckham\\', \\'Posh Spice\\', \\'Victoria addams\\', \\'Victoria Beckham\\', \\'Victoria Adams Beckham\\', \\'Harper Beckham\\', \\'Victoria Caroline Beckham\\', \"I\\'d Give It All Away\", \\'Come Together (Victoria Beckham album)\\', \\'Posh spice\\', \\'The Hustla\\', \\'My Love Is For Real (Victoria Beckham song)\\', \\'Victoria beckham\\']'], ['What are the country code letters for vehicle registration in Algeria?', \"['DZ (disambiguation)', 'Dz.', 'DZs', 'Dz', 'D.z.', 'DZ', 'D Z', 'D.Z.']\"], [\"What was the cause of Jock's death in Dallas?\", \"['Helicopter accident']\"], ['By whom was the statement made that in order to eliminate theft from the world, one must amputate the hands of the thief?', \"['Khomeinist', 'Air France Khomeini return flight', 'Ayatollah Khomeni', 'Grand Ayatollah Ruhollah Khomeini', 'Khomeni', 'روح الله موسوی خمینی', 'Rudollah Khomeini', 'Khomaini', 'Imam Khumayni', 'Khomeini, Ayatollah', 'Ayat Allah Khomeini', 'Ayatullah Khomeini', 'Ayat Allah Ruh Allah Khomeini', 'Khomeinism', 'Butcher of Tehran', 'Khomeyni', 'Grand Ayatullah Khomeini', 'Ayatollah Ruhollah Musavi Khomeini', 'Ayatollah Khomeini', 'The Ayatollah Khomeini', 'Ayatullah Ruhollah Khomeini', 'Imam Khomeini', 'Ruh Allah Khomeini', 'Ruhollah Mostafavi Moosavi Khomeini', 'Rouhollah Mousavi Khomeini', 'Ruholah Khomeini', 'Khumayni', 'Ayahtolla Khomeni', 'Ayatollah Ruhollah Khomeini', 'Ruhallah Khomeini', 'Rūḥullāh Mūsawī Khumaynī', 'Khomeini', 'Rouhollah Khomeini', 'Ruhollah Mousavi Khomeini', 'Ayatollah Khomeyni', 'Ruholla Khomeini', 'Ruhullah Khumayni', 'Khomeiny', 'Ayatollah Khomenei', 'Ayatollah Ruholla Khomeini', 'Ruhallah Musawial Al Khomeini', 'Ayatolla Khomeni', 'Ayatollah Ruhullah Khomeini', 'Ruhollah Khomeini', 'Ayatullah Ruhullah Khumayni', 'Ruholla Mussaui Khomeini']\"], ['What is the estimated area of Arkansas, rounded to the nearest 10,000 square miles?', \"['53,187', 'fifty-three thousand, one hundred and eighty-seven', '53187']\"], ['Which zodiac sign does Michael Caine belong to?', \"['Pisces (disambiguation)', 'Piscean', 'Picese', 'Pisces', 'Piscese', 'Pisese']\"], ['The author of the novel Evening Class is who?', \"['Maeve Binchy']\"], ['What is the country of origin for Air Pacific?', '[\\'Fiji Islands\\', \\'Pacific/Fiji\\', \\'Fidji\\', \\'Matanitu Ko Viti\\', \\'Fijis\\', \\'Fijian Islands\\', \\'Feejee\\', \\'Ripablik ăph Phījī\\', \\'Cannibal Isles\\', \\'Sovereign Democratic Republic of Fiji\\', \\'ISO 3166-1:FJ\\', \\'Name of Fiji\\', \\'Etymology of Fiji\\', \\'Fiji Islander\\', \\'Holidays in fiji\\', \"Fiji\\'s\", \\'Republic of the Fiji Islands\\', \\'Matanitu Tugalala o Viti\\', \\'Fiji Archipelago\\', \\'Fiji Island\\', \\'Fidji Islands\\', \\'Chikoba\\', \\'Holidays in Fiji\\', \\'Tourism in Fiji\\', \\'Fiji\\', \\'Republic of Fiji\\']'], ['What field of the arts does Allegra Kent work in?', \"['Ballet', 'Ballet competitions', 'Ballet schools', 'Balet, India', 'Balletti', 'Ballet dancing', '1938 ballet premieres', 'Balletto', 'Balletomane', '2011 ballet premieres', '1940 ballet premieres', 'Balletomanes', '1939 ballet premieres', 'Ballet characters', 'Ballet teachers', 'Ballet dance', 'Classical Dance', 'Ballets', 'Ballet lessons', '1915 ballet premieres', '1914 ballet premieres', 'Classical dance', 'UN/LOCODE:INBLT', '1916 ballet premieres', 'Balet', 'Ballett']\"], ['What are the registration letters for vehicles from Belize on an international level?', \"['Bh.', 'BH (disambiguation)', 'BH', 'Bh', 'B H', 'B.H.', 'B.h.']\"], ['Which artist reached the top of the charts in the 1970s with the hit song \"Billy, Don\\'t Be A Hero\"?', \"['Bo donaldson and the heywoods', 'Bo Donaldson and the Heywoods', 'Bo Donaldson and The Heywoods', 'The Heywoods', 'Bo Donaldson & the Haywoods', 'Bo Donaldson & the Heywoods', 'Bo Donaldson & The Heywoods', 'Bo Donaldson', 'Rick Joswick', 'Bo Donaldson and the Haywoods']\"], ['What did Banting and Best pioneer in terms of usage?', \"['Insulin antagonists', 'Human Mixtard', 'Insulin recombinant purified human', 'INS (gene)', 'Insulin Human', 'C65R', 'Insulin recombinant human', 'C257H383N65O77S6', 'Insulin purified pork', 'Actraphane', 'Insulin zinc susp recombinant human', 'Insuline', 'Insulin zinc susp prompt beef', 'Insullin', 'Insulin zinc susp semisynthetic purified human', 'Insulin aspart recombinant', 'B10H', 'Insulin purified beef', 'Insulin gene', 'Insulin zinc susp extended recombinant human', 'Aktrapid', 'Oral insulin', 'Insulin zinc susp purified pork', 'Human mixtard', 'Insulin zinc susp extended beef', 'Insulin zinc susp extended purified beef', 'Insulin release', 'Insulin zinc susp purified beef', 'Actrapid', 'Insulin glargine recombinant', 'Insulin zinc susp prompt purified pork', 'Insulin pork', 'Iletin i (beef-pork)', 'Iletin II', 'Insulin zinc susp beef', 'Mixtard', 'Insulin, porcine', 'Insulin']\"], ['Which director is responsible for the movie La Dolce Vita?', \"['Federico Fellini, Cavaliere di Gran Croce OMRI', 'Felini', 'Felliniesque', 'Fellini', 'Frederico Fellini', 'Federico Fellini']\"], ['From which country does the airline LACSA originate?', \"['Countries: Costa Rica', 'Costarrica', 'Republic of Costa Rica', 'Sport in Costa Rica', 'Costarica', 'The Republic of Costa Rica', 'Costa rica', 'Rich Coast', 'Costa-Rica', 'Climate of Costa Rica', 'Costa Rica', 'Costa Rican', 'República de Costa Rica', 'Climate of costa rica', 'Cosat Rica', 'Tiquicia', 'Coasta rica', 'List of Costa Ricans', 'ISO 3166-1:CR', 'America/Costa Rica', 'Coast Rice']\"], ['Which director was responsible for 2001: A Space Odyssey?', \"['Stanley Q-Brick', 'Stanley kubrick', 'Stan Kubrick', 'Stanley Kubrik', 'Kubricks', 'List of Stanley Kubrick films', 'Stanley Kubrick', 'Uncompleted Kubrick films', 'Toba metz', 'Stanley kubrik', 'Kubrick', 'Kubrik', 'Kubrickian']\"], ['What is the biggest volcano island among the Japanese Volcano Islands?', \"['Mount Surabachi', 'Iō-tō', 'Iwō Tō', 'Iwo-Jima', 'Io-jima', 'Ivo jima', 'Io To', 'Iōtō', 'Iwo To', 'Iwo Jima Island', 'Iwo Jima', 'Ioto', 'Iwoto', 'Iwo jima', 'Iwojima', 'Io Jima', 'Iō Tō', 'Iwōtō']\"], ['In which sport was Ezzard Charles a world champion?', '[\\'Prize fight\\', \\'Prize fighting\\', \\'Fistfighting\\', \\'Corner men\\', \\'Corner persons\\', \\'Prize-fighter\\', \\'Noble art\\', \\'Boxing\\', \\'Sports boxing\\', \\'Western boxing\\', \\'English boxing\\', \\'Boxing match\\', \\'Fistfight\\', \\'Cornermen\\', \\'Prizefighter\\', \\'Low guard\\', \\'Boxing (sport)\\', \\'Boxing moves\\', \\'Corner-man\\', \\'Cornerpersons\\', \\'Pugilism\\', \\'Corner-person\\', \\'Fist fight\\', \\'Boxing punches\\', \\'Round (boxing)\\', \\'Pugilist\\', \\'Boxer\\', \\'Fist-fighting\\', \"Gentleman\\'s sport\", \\'Fist-fight\\', \\'拳闘\\', \\'Cornerperson\\', \\'Prizefights\\', \\'History of professional boxing\\', \\'Corner-persons\\', \\'Fist fighting\\', \\'Prize fighter\\', \\'Boxers\\', \\'Parrying (boxing)\\', \\'History of boxing\\', \\'Fist Fighting\\', \\'Prize Fighter\\', \\'Pugilistic\\', \\'Corner-men\\', \\'Corner person\\', \\'Ring second\\', \\'Hit and Away\\', \\'Boxing Styles and Techniques\\']'], ['Which woman was the pioneer to complete a solo flight across the Atlantic?', \"['Amelia airheart', 'Amelia Airhardt', 'Disappearance of Amelia Earhart', 'Amelia Airhart', 'Amelia Erhart', 'Emelia Earhart', 'Amelia Mary Earhart', 'Amelia Aerhart', 'Amelia Erhardt', 'Amelia Earheart', 'Amelia Earnhart', 'Amelia Earhart Putnam', 'Emelia Airheart', 'Amelia earhart', 'Amielia Earhart', 'Amelia airhart', 'Amelia Earhardt', 'Amelia Earhart Life Summary', 'Amelia Earhart', 'Amelia Airheart']\"], ['What is the name of the port located between Puget Sound and Lake Washington?', '[\\'Seattle, Washington.\\', \\'Seattle Weekly news\\', \\'Jet City\\', \\'Seattle, Washington, USA\\', \\'Seattle WA\\', \\'Seattle, United States of America\\', \\'舍路\\', \\'City of Seattle\\', \\'Seattle Washington\\', \\'Seattle, US-WA\\', \\'Seattle (WA)\\', \\'Seattle, Wa\\', \\'Seattle, WA\\', \\'Seattle, Washington\\', \\'St. Anne Seattle\\', \\'Seattle (Wash.)\\', \\'The weather in Seattle\\', \\'Seattle, Washington (State)\\', \\'Emerald City, Washington\\', \\'Seattleans\\', \"Seattle\\'s\", \\'Seattle, Wash.\\', \\'Duwamps\\', \\'St. Anne School, Seattle, Washington\\', \\'Seattle, wa\\', \\'Seattleites\\', \\'Seattle, Washington Territory\\', \\'Seattle, United States\\', \\'Seatle\\', \\'Seattle, USA\\', \\'UN/LOCODE:USSEA\\', \\'St. Anne School (Seattle, Washington)\\', \\'Seattle\\', \\'Seattle, WA, USA\\']'], ['Which city saw the establishment of Rotary Clubs in 1905?', \"['Chi-Beria', 'Sayre language academy', 'Chicago', 'Chicago, Illinois', 'Hog Butcher for the World', 'Land of smelly onions', 'Ariel Community Academy', 'The weather in Chicago', 'Chicago, Illinois, U.S.A.', 'Chicago, Illionis', 'Near North Montessori', 'Religion in Chicago', 'Chicago Finance Committee', 'The Paris of America', 'The city of Chicago', 'City of Chicago', 'List of sister cities of Chicago', 'UN/LOCODE:USCHI', 'Chicago theatre scene', 'Chicago, WI', 'The City of Broad Shoulders', 'City of Broad Shoulders', 'Sister Cities of Chicago', 'Chicago il', 'Chicago, Illinois, USA', 'Performing arts in Chicago', 'Chicago Transportation Committee', 'Chicago, Wisconsin', 'City of chicago', 'Chicago theater scene', 'Chicago, Il', 'Chicago, IL.', 'Chicago, Ill.', 'City of Chicago, Illinois', 'Chi town', 'Chicago, United States', 'Chicago (Ill.)', 'Transport in Chicago', 'Chicago, Illinois, United States', 'Chicago (IL)', 'USCHI', 'Chichago', 'Chcago', 'Chicago, Illinois, U.S.', 'Sister Cities Chicago', 'Chicago, USA', 'Chi City', 'Chicago, IL', 'Chi-Town', 'Chicago theatre', 'Paris of America', 'Chicago, Illinois, US', 'Chicago Illinois', 'The city of Chicago, Illinois', 'Sister cities of Chicago']\"], ['When Spiro Agnew resigned, who assumed the role of US Vice President?', \"['President Gerald R. Ford', 'Gerald R. Ford Jr.', 'Assassination attempts on Gerald Ford', 'Leslie Lynch King Jr.', 'Leslie L King', 'Leslie King, Jr.', 'Ford administration', 'Gerald R Ford', 'Leslie Lynch King, Jr', 'Birth and life of Gerald Ford', 'Leslie Lynch King', 'Presidency of Gerald Ford administration', 'Gerald fod', 'Vice President Ford', 'Nixon pardon', 'Ford Administration', 'Presidency of Gerald R. Ford', 'Jerry Ford', 'U.S. President Gerald Ford', 'Gerald Rudolph Ford', 'Gerald R. Ford', 'Presidency of Gerald Ford', 'Gerald ford', 'Gerald R. Ford, Jr', 'Gerald Rudolph Ford Jr.', 'Presidency of gerald ford', 'Gerald Rudolph, Jr. Ford', 'President Gerald Ford', 'Gerald Ford, Jr.', 'Gerald R. Ford, Jr.', 'Gerry Ford', 'Leslie Lynch King Jr', 'Gerald Ford', 'Leslie L. King', 'Leslie Lynch King, Jr.', '38th President of the United States', 'Leslie King, Jr', 'President Ford', 'Gerald Rudolph Ford, Jr.']\"], ['During which time period in the 1900s was Billy Crystal born?', '[\\'The Forties\\', \\'1940–1949\\', \\'%6040s\\', \\'1940s\\', \\'Nineteen-forties\\', \\'1940s literature\\', \"\\'40s\", \\'1940-1949\\', \"1940\\'s\", \\'1940s (decade)\\']'], ['Who was the George that invented the Kodak roll-film camera?', \"['Eastman', 'Eastman (disambiguation)']\"]]\n"
     ]
    }
   ],
   "source": [
    "evaluation_set = []\n",
    "with open('evaluation_set.csv', 'r') as file:\n",
    "    reader = csv.reader(file)\n",
    "    evaluation_set = list(reader)"
   ]
  },
  {
   "attachments": {},
   "cell_type": "markdown",
   "metadata": {},
   "source": [
    "## 2. Define an evaluation function\n",
    "\n",
    "Next, we will define an evaluation function that makes it easy to evaluate different prompts for a TriviaBot.\n",
    "\n",
    "We will use a mix of scoring functions we define and scoring functions that come included with BrainTrust's [autoevals library](https://github.com/braintrustdata/autoevals)."
   ]
  },
  {
   "cell_type": "code",
   "execution_count": 8,
   "metadata": {},
   "outputs": [],
   "source": [
    "# Run evaluation function\n",
    "def runEvaluation(generationFn, experimentName):\n",
    "    #Initialize a BrainTrust experiment\n",
    "    experiment = braintrust.init(project=\"Chroma-Trivia-Retrieval\", api_key=BT_API_KEY, experiment=experimentName)\n",
    "    for testCase in evaluation_set:\n",
    "        question, expected = testCase\n",
    "        # get the cheat sheet for the input\n",
    "        generatedAnswer, prompt = generationFn(question)\n",
    "        \n",
    "        # 1. Use a custom eval\n",
    "        def evalAppears(expected, output):\n",
    "            result = output in expected\n",
    "            return (1 if result else 0)\n",
    "        answerAppears = evalAppears(expected, generatedAnswer)\n",
    "\n",
    "        #2. use BrainTrust's Levenshtein scorer\n",
    "        levenEvaluator = LevenshteinScorer()\n",
    "        levenEvaluations = map(lambda x: levenEvaluator(x, generatedAnswer).score, expected)\n",
    "        maxLevenEvaluation = max(list(levenEvaluations))\n",
    "\n",
    "        scores = {\n",
    "            \"answerAppears\": answerAppears,\n",
    "            \"levenshteinScore\": maxLevenEvaluation,\n",
    "        }\n",
    "\n",
    "        # Log to BrainTrust\n",
    "        experiment.log(\n",
    "            input=question,\n",
    "            output=generatedAnswer,\n",
    "            expected=expected,\n",
    "            scores=scores,\n",
    "            metadata={\"prompt\": prompt},\n",
    "        )\n",
    "\n",
    "    return experiment.summarize()"
   ]
  },
  {
   "attachments": {},
   "cell_type": "markdown",
   "metadata": {},
   "source": [
    "## 3. Compare prompts\n",
    "\n",
    "First, we will try a very simple prompt and see how much we can improve it.\n",
    "\n",
    "```\n",
    "Input: {question}\n",
    "Output:\n",
    "```\n",
    "After we run this block, we will get a link to the BrainTrust web UI so we can dig into where our app can be improved."
   ]
  },
  {
   "cell_type": "code",
   "execution_count": 10,
   "metadata": {},
   "outputs": [
    {
     "name": "stdout",
     "output_type": "stream",
     "text": [
      "\n",
      "=========================SUMMARY=========================\n",
      "simple-020 compared to simple-019:\n",
      "See results for all experiments in Chroma-Trivia-Retrieval at https://www.braintrustdata.com/app/braintrustdata.com/p/Chroma-Trivia-Retrieval\n",
      "See results for simple-020 at https://www.braintrustdata.com/app/braintrustdata.com/p/Chroma-Trivia-Retrieval/simple-020\n"
     ]
    }
   ],
   "source": [
    "def simplePrompt(question):\n",
    "    try:\n",
    "        prompt = \"\"\"\n",
    "        Input: {question}\n",
    "        \n",
    "        Output:\n",
    "        \"\"\".format(question=question)\n",
    "        messages = [{\"role\": \"system\", \"content\": prompt}]\n",
    "        response = openai.ChatCompletion.create(\n",
    "            model=\"gpt-3.5-turbo\",\n",
    "            messages=messages,\n",
    "            temperature=0,\n",
    "            max_tokens=500,\n",
    "        )\n",
    "\n",
    "        result = response[\"choices\"][0][\"message\"][\"content\"]\n",
    "        return result, messages\n",
    "    except Exception as e:\n",
    "        print(e)\n",
    "        return []\n",
    "results = runEvaluation(simplePrompt, \"simple\")\n",
    "print(results)"
   ]
  },
  {
   "attachments": {},
   "cell_type": "markdown",
   "metadata": {},
   "source": [
    "![simple.png](simple.png)\n",
    "Our initial score is not great. Let's make some changes to our prompt and make it a bit more sophisticated and re-run again."
   ]
  },
  {
   "cell_type": "code",
   "execution_count": 11,
   "metadata": {},
   "outputs": [
    {
     "name": "stdout",
     "output_type": "stream",
     "text": [
      "\n",
      "=========================SUMMARY=========================\n",
      "simple-021 compared to simple-020:\n",
      "58.82% (+49.02%) 'answerAppears'    score\t(25 improvements, 0 regressions)\n",
      "12.13% (+09.77%) 'levenshteinScore' score\t(43 improvements, 1 regressions)\n",
      "\n",
      "See results for all experiments in Chroma-Trivia-Retrieval at https://www.braintrustdata.com/app/braintrustdata.com/p/Chroma-Trivia-Retrieval\n",
      "See results for simple-021 at https://www.braintrustdata.com/app/braintrustdata.com/p/Chroma-Trivia-Retrieval/simple-021\n"
     ]
    }
   ],
   "source": [
    "def complexPrompt(question):\n",
    "    try:\n",
    "        prompt = \"\"\"\n",
    "        ---\n",
    "        You are the world's best trivia player. You will be given a question - respond to it as factually correct as possible.\n",
    "        Respond with just the answer as concisely as possible.\n",
    "        Input: {question}\n",
    "        \n",
    "        Output:\n",
    "        \"\"\".format(question=question)\n",
    "        messages = [{\"role\": \"system\", \"content\": prompt}]\n",
    "        response = openai.ChatCompletion.create(\n",
    "            model=\"gpt-3.5-turbo\",\n",
    "            messages=messages,\n",
    "            temperature=0,\n",
    "            max_tokens=500,\n",
    "        )\n",
    "\n",
    "        result = response[\"choices\"][0][\"message\"][\"content\"]\n",
    "        return result, messages\n",
    "    except Exception as e:\n",
    "        print(e)\n",
    "        return []\n",
    "results = runEvaluation(complexPrompt, \"complex\")\n",
    "print(results)"
   ]
  },
  {
   "attachments": {},
   "cell_type": "markdown",
   "metadata": {},
   "source": [
    "![final.png](complex.png)\n",
    "Our new prompt performs much better!\n",
    "\n",
    "We can verify that our pipeline changes actually improved our performance using BrainTrust. Next, you can continue to make prompt and pipeline changes to improve the score even more.\n",
    "\n",
    "Now, you are on your journey of building reliable AI apps with BrainTrust.\n",
    "Learn more on our docs @ [https://www.braintrustdata.com/docs](https://www.braintrustdata.com/docs)."
   ]
  }
 ],
 "metadata": {
  "kernelspec": {
   "display_name": "Python 3",
   "language": "python",
   "name": "python3"
  },
  "language_info": {
   "codemirror_mode": {
    "name": "ipython",
    "version": 3
   },
   "file_extension": ".py",
   "mimetype": "text/x-python",
   "name": "python",
   "nbconvert_exporter": "python",
   "pygments_lexer": "ipython3",
   "version": "3.11.4"
  },
  "orig_nbformat": 4
 },
 "nbformat": 4,
 "nbformat_minor": 2
}
